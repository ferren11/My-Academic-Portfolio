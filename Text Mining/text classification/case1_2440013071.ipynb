{
  "nbformat": 4,
  "nbformat_minor": 0,
  "metadata": {
    "colab": {
      "provenance": []
    },
    "kernelspec": {
      "name": "python3",
      "display_name": "Python 3"
    },
    "language_info": {
      "name": "python"
    }
  },
  "cells": [
    {
      "cell_type": "markdown",
      "source": [
        "# Case 1: Text Classification\n",
        "\n",
        "Name: Felicia Ferren\n",
        "\n",
        "NIM: 2440013071\n",
        "\n",
        "Video link: https://youtu.be/hmTLtPRIBVs"
      ],
      "metadata": {
        "id": "iBF9Tpi_Vr9a"
      }
    },
    {
      "cell_type": "markdown",
      "source": [
        "### **Import Google Drive to colab**\n",
        "\n",
        " The data will be accessed from here."
      ],
      "metadata": {
        "id": "E-6cZjcRZaaO"
      }
    },
    {
      "cell_type": "code",
      "execution_count": null,
      "metadata": {
        "id": "CZFj9eZtVpCZ",
        "colab": {
          "base_uri": "https://localhost:8080/"
        },
        "outputId": "4d51bbb6-e0c3-4382-b6cc-636cab7fb39a"
      },
      "outputs": [
        {
          "output_type": "stream",
          "name": "stdout",
          "text": [
            "Drive already mounted at /content/drive; to attempt to forcibly remount, call drive.mount(\"/content/drive\", force_remount=True).\n"
          ]
        }
      ],
      "source": [
        "# import drive to colab\n",
        "from google.colab import drive\n",
        "drive.mount('/content/drive')"
      ]
    },
    {
      "cell_type": "code",
      "source": [
        "# view files\n",
        "! ls"
      ],
      "metadata": {
        "colab": {
          "base_uri": "https://localhost:8080/"
        },
        "id": "JwDAAiVwWrYo",
        "outputId": "91d56d57-2e5d-4c6d-d4ee-10ea99b672bf"
      },
      "execution_count": null,
      "outputs": [
        {
          "output_type": "stream",
          "name": "stdout",
          "text": [
            "drive  sample_data\n"
          ]
        }
      ]
    },
    {
      "cell_type": "code",
      "source": [
        "# setting project directory\n",
        "%cd drive/My Drive/uas-text-mining"
      ],
      "metadata": {
        "colab": {
          "base_uri": "https://localhost:8080/"
        },
        "id": "_eXtMNohWxGm",
        "outputId": "bf0eb71d-cd6e-4fa2-c19e-669f184dacd0"
      },
      "execution_count": null,
      "outputs": [
        {
          "output_type": "stream",
          "name": "stdout",
          "text": [
            "/content/drive/My Drive/uas-text-mining\n"
          ]
        }
      ]
    },
    {
      "cell_type": "markdown",
      "source": [
        "now, we have our project directory under ../content/drive/My Drive/uas-text-mining..."
      ],
      "metadata": {
        "id": "MBHp6eznZs79"
      }
    },
    {
      "cell_type": "markdown",
      "source": [
        "## Load Data"
      ],
      "metadata": {
        "id": "YQQxbCd83zkd"
      }
    },
    {
      "cell_type": "markdown",
      "source": [
        "Now, we load the data 'data_1B.csv' and let's see what's in there..."
      ],
      "metadata": {
        "id": "0nyPkhHXZ4DL"
      }
    },
    {
      "cell_type": "code",
      "source": [
        "# import libraries\n",
        "import pandas as pd\n",
        "import numpy as np\n",
        "import matplotlib.pyplot as plt"
      ],
      "metadata": {
        "id": "4n89zaklXHGD"
      },
      "execution_count": null,
      "outputs": []
    },
    {
      "cell_type": "code",
      "source": [
        "# read data\n",
        "df = pd.read_csv('data_1B.csv')\n",
        "\n",
        "df.head(5)"
      ],
      "metadata": {
        "colab": {
          "base_uri": "https://localhost:8080/",
          "height": 206
        },
        "id": "oR1e0-jbXOJA",
        "outputId": "b4773134-fdfd-4f86-8b3c-60b9dfa49961"
      },
      "execution_count": null,
      "outputs": [
        {
          "output_type": "execute_result",
          "data": {
            "text/plain": [
              "   Unnamed: 0                                               text  \\\n",
              "0           0  AV2 Women Maternity Wear/Feedind/Nursing Top &...   \n",
              "1           1  Houskipper Professional Spray Mop with Best 36...   \n",
              "2           2  Tat-Sat Ceramic Fondue Burner , Black This Fon...   \n",
              "3           3  Prestige Plastic Hand Blender, Orange Save tim...   \n",
              "4           4  Gorilla Renesa+ Energy Saving 5 Star Rated Cei...   \n",
              "\n",
              "                    label  \n",
              "0  Clothing & Accessories  \n",
              "1               Household  \n",
              "2               Household  \n",
              "3               Household  \n",
              "4               Household  "
            ],
            "text/html": [
              "\n",
              "  <div id=\"df-b3eb040b-6227-4306-af37-d7c849010dda\">\n",
              "    <div class=\"colab-df-container\">\n",
              "      <div>\n",
              "<style scoped>\n",
              "    .dataframe tbody tr th:only-of-type {\n",
              "        vertical-align: middle;\n",
              "    }\n",
              "\n",
              "    .dataframe tbody tr th {\n",
              "        vertical-align: top;\n",
              "    }\n",
              "\n",
              "    .dataframe thead th {\n",
              "        text-align: right;\n",
              "    }\n",
              "</style>\n",
              "<table border=\"1\" class=\"dataframe\">\n",
              "  <thead>\n",
              "    <tr style=\"text-align: right;\">\n",
              "      <th></th>\n",
              "      <th>Unnamed: 0</th>\n",
              "      <th>text</th>\n",
              "      <th>label</th>\n",
              "    </tr>\n",
              "  </thead>\n",
              "  <tbody>\n",
              "    <tr>\n",
              "      <th>0</th>\n",
              "      <td>0</td>\n",
              "      <td>AV2 Women Maternity Wear/Feedind/Nursing Top &amp;...</td>\n",
              "      <td>Clothing &amp; Accessories</td>\n",
              "    </tr>\n",
              "    <tr>\n",
              "      <th>1</th>\n",
              "      <td>1</td>\n",
              "      <td>Houskipper Professional Spray Mop with Best 36...</td>\n",
              "      <td>Household</td>\n",
              "    </tr>\n",
              "    <tr>\n",
              "      <th>2</th>\n",
              "      <td>2</td>\n",
              "      <td>Tat-Sat Ceramic Fondue Burner , Black This Fon...</td>\n",
              "      <td>Household</td>\n",
              "    </tr>\n",
              "    <tr>\n",
              "      <th>3</th>\n",
              "      <td>3</td>\n",
              "      <td>Prestige Plastic Hand Blender, Orange Save tim...</td>\n",
              "      <td>Household</td>\n",
              "    </tr>\n",
              "    <tr>\n",
              "      <th>4</th>\n",
              "      <td>4</td>\n",
              "      <td>Gorilla Renesa+ Energy Saving 5 Star Rated Cei...</td>\n",
              "      <td>Household</td>\n",
              "    </tr>\n",
              "  </tbody>\n",
              "</table>\n",
              "</div>\n",
              "      <button class=\"colab-df-convert\" onclick=\"convertToInteractive('df-b3eb040b-6227-4306-af37-d7c849010dda')\"\n",
              "              title=\"Convert this dataframe to an interactive table.\"\n",
              "              style=\"display:none;\">\n",
              "        \n",
              "  <svg xmlns=\"http://www.w3.org/2000/svg\" height=\"24px\"viewBox=\"0 0 24 24\"\n",
              "       width=\"24px\">\n",
              "    <path d=\"M0 0h24v24H0V0z\" fill=\"none\"/>\n",
              "    <path d=\"M18.56 5.44l.94 2.06.94-2.06 2.06-.94-2.06-.94-.94-2.06-.94 2.06-2.06.94zm-11 1L8.5 8.5l.94-2.06 2.06-.94-2.06-.94L8.5 2.5l-.94 2.06-2.06.94zm10 10l.94 2.06.94-2.06 2.06-.94-2.06-.94-.94-2.06-.94 2.06-2.06.94z\"/><path d=\"M17.41 7.96l-1.37-1.37c-.4-.4-.92-.59-1.43-.59-.52 0-1.04.2-1.43.59L10.3 9.45l-7.72 7.72c-.78.78-.78 2.05 0 2.83L4 21.41c.39.39.9.59 1.41.59.51 0 1.02-.2 1.41-.59l7.78-7.78 2.81-2.81c.8-.78.8-2.07 0-2.86zM5.41 20L4 18.59l7.72-7.72 1.47 1.35L5.41 20z\"/>\n",
              "  </svg>\n",
              "      </button>\n",
              "      \n",
              "  <style>\n",
              "    .colab-df-container {\n",
              "      display:flex;\n",
              "      flex-wrap:wrap;\n",
              "      gap: 12px;\n",
              "    }\n",
              "\n",
              "    .colab-df-convert {\n",
              "      background-color: #E8F0FE;\n",
              "      border: none;\n",
              "      border-radius: 50%;\n",
              "      cursor: pointer;\n",
              "      display: none;\n",
              "      fill: #1967D2;\n",
              "      height: 32px;\n",
              "      padding: 0 0 0 0;\n",
              "      width: 32px;\n",
              "    }\n",
              "\n",
              "    .colab-df-convert:hover {\n",
              "      background-color: #E2EBFA;\n",
              "      box-shadow: 0px 1px 2px rgba(60, 64, 67, 0.3), 0px 1px 3px 1px rgba(60, 64, 67, 0.15);\n",
              "      fill: #174EA6;\n",
              "    }\n",
              "\n",
              "    [theme=dark] .colab-df-convert {\n",
              "      background-color: #3B4455;\n",
              "      fill: #D2E3FC;\n",
              "    }\n",
              "\n",
              "    [theme=dark] .colab-df-convert:hover {\n",
              "      background-color: #434B5C;\n",
              "      box-shadow: 0px 1px 3px 1px rgba(0, 0, 0, 0.15);\n",
              "      filter: drop-shadow(0px 1px 2px rgba(0, 0, 0, 0.3));\n",
              "      fill: #FFFFFF;\n",
              "    }\n",
              "  </style>\n",
              "\n",
              "      <script>\n",
              "        const buttonEl =\n",
              "          document.querySelector('#df-b3eb040b-6227-4306-af37-d7c849010dda button.colab-df-convert');\n",
              "        buttonEl.style.display =\n",
              "          google.colab.kernel.accessAllowed ? 'block' : 'none';\n",
              "\n",
              "        async function convertToInteractive(key) {\n",
              "          const element = document.querySelector('#df-b3eb040b-6227-4306-af37-d7c849010dda');\n",
              "          const dataTable =\n",
              "            await google.colab.kernel.invokeFunction('convertToInteractive',\n",
              "                                                     [key], {});\n",
              "          if (!dataTable) return;\n",
              "\n",
              "          const docLinkHtml = 'Like what you see? Visit the ' +\n",
              "            '<a target=\"_blank\" href=https://colab.research.google.com/notebooks/data_table.ipynb>data table notebook</a>'\n",
              "            + ' to learn more about interactive tables.';\n",
              "          element.innerHTML = '';\n",
              "          dataTable['output_type'] = 'display_data';\n",
              "          await google.colab.output.renderOutput(dataTable, element);\n",
              "          const docLink = document.createElement('div');\n",
              "          docLink.innerHTML = docLinkHtml;\n",
              "          element.appendChild(docLink);\n",
              "        }\n",
              "      </script>\n",
              "    </div>\n",
              "  </div>\n",
              "  "
            ]
          },
          "metadata": {},
          "execution_count": 11
        }
      ]
    },
    {
      "cell_type": "markdown",
      "source": [
        "we can see here that maybe this Unnamed: 0 field is just the index of our observations, so we can just remove them."
      ],
      "metadata": {
        "id": "U_3NRd-HaHiP"
      }
    },
    {
      "cell_type": "code",
      "source": [
        "# drop out the first field, we will only take text and label field\n",
        "df1 = df.iloc[:, 1:].copy()\n",
        "\n",
        "df1.head(5)"
      ],
      "metadata": {
        "colab": {
          "base_uri": "https://localhost:8080/",
          "height": 206
        },
        "id": "5eMBEg2SXjG_",
        "outputId": "7ec97dc6-61cc-45dd-dabf-e88be962225e"
      },
      "execution_count": null,
      "outputs": [
        {
          "output_type": "execute_result",
          "data": {
            "text/plain": [
              "                                                text                   label\n",
              "0  AV2 Women Maternity Wear/Feedind/Nursing Top &...  Clothing & Accessories\n",
              "1  Houskipper Professional Spray Mop with Best 36...               Household\n",
              "2  Tat-Sat Ceramic Fondue Burner , Black This Fon...               Household\n",
              "3  Prestige Plastic Hand Blender, Orange Save tim...               Household\n",
              "4  Gorilla Renesa+ Energy Saving 5 Star Rated Cei...               Household"
            ],
            "text/html": [
              "\n",
              "  <div id=\"df-65f033a0-111d-42c1-80ad-6cb0dfa9ff85\">\n",
              "    <div class=\"colab-df-container\">\n",
              "      <div>\n",
              "<style scoped>\n",
              "    .dataframe tbody tr th:only-of-type {\n",
              "        vertical-align: middle;\n",
              "    }\n",
              "\n",
              "    .dataframe tbody tr th {\n",
              "        vertical-align: top;\n",
              "    }\n",
              "\n",
              "    .dataframe thead th {\n",
              "        text-align: right;\n",
              "    }\n",
              "</style>\n",
              "<table border=\"1\" class=\"dataframe\">\n",
              "  <thead>\n",
              "    <tr style=\"text-align: right;\">\n",
              "      <th></th>\n",
              "      <th>text</th>\n",
              "      <th>label</th>\n",
              "    </tr>\n",
              "  </thead>\n",
              "  <tbody>\n",
              "    <tr>\n",
              "      <th>0</th>\n",
              "      <td>AV2 Women Maternity Wear/Feedind/Nursing Top &amp;...</td>\n",
              "      <td>Clothing &amp; Accessories</td>\n",
              "    </tr>\n",
              "    <tr>\n",
              "      <th>1</th>\n",
              "      <td>Houskipper Professional Spray Mop with Best 36...</td>\n",
              "      <td>Household</td>\n",
              "    </tr>\n",
              "    <tr>\n",
              "      <th>2</th>\n",
              "      <td>Tat-Sat Ceramic Fondue Burner , Black This Fon...</td>\n",
              "      <td>Household</td>\n",
              "    </tr>\n",
              "    <tr>\n",
              "      <th>3</th>\n",
              "      <td>Prestige Plastic Hand Blender, Orange Save tim...</td>\n",
              "      <td>Household</td>\n",
              "    </tr>\n",
              "    <tr>\n",
              "      <th>4</th>\n",
              "      <td>Gorilla Renesa+ Energy Saving 5 Star Rated Cei...</td>\n",
              "      <td>Household</td>\n",
              "    </tr>\n",
              "  </tbody>\n",
              "</table>\n",
              "</div>\n",
              "      <button class=\"colab-df-convert\" onclick=\"convertToInteractive('df-65f033a0-111d-42c1-80ad-6cb0dfa9ff85')\"\n",
              "              title=\"Convert this dataframe to an interactive table.\"\n",
              "              style=\"display:none;\">\n",
              "        \n",
              "  <svg xmlns=\"http://www.w3.org/2000/svg\" height=\"24px\"viewBox=\"0 0 24 24\"\n",
              "       width=\"24px\">\n",
              "    <path d=\"M0 0h24v24H0V0z\" fill=\"none\"/>\n",
              "    <path d=\"M18.56 5.44l.94 2.06.94-2.06 2.06-.94-2.06-.94-.94-2.06-.94 2.06-2.06.94zm-11 1L8.5 8.5l.94-2.06 2.06-.94-2.06-.94L8.5 2.5l-.94 2.06-2.06.94zm10 10l.94 2.06.94-2.06 2.06-.94-2.06-.94-.94-2.06-.94 2.06-2.06.94z\"/><path d=\"M17.41 7.96l-1.37-1.37c-.4-.4-.92-.59-1.43-.59-.52 0-1.04.2-1.43.59L10.3 9.45l-7.72 7.72c-.78.78-.78 2.05 0 2.83L4 21.41c.39.39.9.59 1.41.59.51 0 1.02-.2 1.41-.59l7.78-7.78 2.81-2.81c.8-.78.8-2.07 0-2.86zM5.41 20L4 18.59l7.72-7.72 1.47 1.35L5.41 20z\"/>\n",
              "  </svg>\n",
              "      </button>\n",
              "      \n",
              "  <style>\n",
              "    .colab-df-container {\n",
              "      display:flex;\n",
              "      flex-wrap:wrap;\n",
              "      gap: 12px;\n",
              "    }\n",
              "\n",
              "    .colab-df-convert {\n",
              "      background-color: #E8F0FE;\n",
              "      border: none;\n",
              "      border-radius: 50%;\n",
              "      cursor: pointer;\n",
              "      display: none;\n",
              "      fill: #1967D2;\n",
              "      height: 32px;\n",
              "      padding: 0 0 0 0;\n",
              "      width: 32px;\n",
              "    }\n",
              "\n",
              "    .colab-df-convert:hover {\n",
              "      background-color: #E2EBFA;\n",
              "      box-shadow: 0px 1px 2px rgba(60, 64, 67, 0.3), 0px 1px 3px 1px rgba(60, 64, 67, 0.15);\n",
              "      fill: #174EA6;\n",
              "    }\n",
              "\n",
              "    [theme=dark] .colab-df-convert {\n",
              "      background-color: #3B4455;\n",
              "      fill: #D2E3FC;\n",
              "    }\n",
              "\n",
              "    [theme=dark] .colab-df-convert:hover {\n",
              "      background-color: #434B5C;\n",
              "      box-shadow: 0px 1px 3px 1px rgba(0, 0, 0, 0.15);\n",
              "      filter: drop-shadow(0px 1px 2px rgba(0, 0, 0, 0.3));\n",
              "      fill: #FFFFFF;\n",
              "    }\n",
              "  </style>\n",
              "\n",
              "      <script>\n",
              "        const buttonEl =\n",
              "          document.querySelector('#df-65f033a0-111d-42c1-80ad-6cb0dfa9ff85 button.colab-df-convert');\n",
              "        buttonEl.style.display =\n",
              "          google.colab.kernel.accessAllowed ? 'block' : 'none';\n",
              "\n",
              "        async function convertToInteractive(key) {\n",
              "          const element = document.querySelector('#df-65f033a0-111d-42c1-80ad-6cb0dfa9ff85');\n",
              "          const dataTable =\n",
              "            await google.colab.kernel.invokeFunction('convertToInteractive',\n",
              "                                                     [key], {});\n",
              "          if (!dataTable) return;\n",
              "\n",
              "          const docLinkHtml = 'Like what you see? Visit the ' +\n",
              "            '<a target=\"_blank\" href=https://colab.research.google.com/notebooks/data_table.ipynb>data table notebook</a>'\n",
              "            + ' to learn more about interactive tables.';\n",
              "          element.innerHTML = '';\n",
              "          dataTable['output_type'] = 'display_data';\n",
              "          await google.colab.output.renderOutput(dataTable, element);\n",
              "          const docLink = document.createElement('div');\n",
              "          docLink.innerHTML = docLinkHtml;\n",
              "          element.appendChild(docLink);\n",
              "        }\n",
              "      </script>\n",
              "    </div>\n",
              "  </div>\n",
              "  "
            ]
          },
          "metadata": {},
          "execution_count": 12
        }
      ]
    },
    {
      "cell_type": "markdown",
      "source": [
        "now, we have a dataframe with 2 variables, which are 'text' and 'label'. The 'text' is the sentences and they are classified into a label in 'label' field. Let's find out more in EDA!"
      ],
      "metadata": {
        "id": "y1cY4vMZaVKD"
      }
    },
    {
      "cell_type": "markdown",
      "source": [
        "## Exploratory Data Analysis\n"
      ],
      "metadata": {
        "id": "iyCm22zP3UMB"
      }
    },
    {
      "cell_type": "markdown",
      "source": [
        "Now, we will gather more information about our dataset in this section."
      ],
      "metadata": {
        "id": "G4qMeOeLafHT"
      }
    },
    {
      "cell_type": "code",
      "source": [
        "# view shape\n",
        "df1.shape"
      ],
      "metadata": {
        "id": "IJDVHt9wYawf",
        "colab": {
          "base_uri": "https://localhost:8080/"
        },
        "outputId": "99ee2bf2-6be2-44be-a737-79fdcae04fef"
      },
      "execution_count": null,
      "outputs": [
        {
          "output_type": "execute_result",
          "data": {
            "text/plain": [
              "(12606, 2)"
            ]
          },
          "metadata": {},
          "execution_count": 13
        }
      ]
    },
    {
      "cell_type": "code",
      "source": [
        "df1.info()"
      ],
      "metadata": {
        "colab": {
          "base_uri": "https://localhost:8080/"
        },
        "id": "SWCj_5oF8hFx",
        "outputId": "a291b816-776d-458c-e458-a37dd0218596"
      },
      "execution_count": null,
      "outputs": [
        {
          "output_type": "stream",
          "name": "stdout",
          "text": [
            "<class 'pandas.core.frame.DataFrame'>\n",
            "RangeIndex: 12606 entries, 0 to 12605\n",
            "Data columns (total 2 columns):\n",
            " #   Column  Non-Null Count  Dtype \n",
            "---  ------  --------------  ----- \n",
            " 0   text    12606 non-null  object\n",
            " 1   label   12606 non-null  object\n",
            "dtypes: object(2)\n",
            "memory usage: 197.1+ KB\n"
          ]
        }
      ]
    },
    {
      "cell_type": "markdown",
      "source": [
        "Here, we can tell that there are 12606 observations in our dataset where there is likely no NULL values.\n",
        "\n",
        "Now, we will check the count of the text's label and see the distributions."
      ],
      "metadata": {
        "id": "ImSSllz3aj35"
      }
    },
    {
      "cell_type": "code",
      "source": [
        "# check the count of text label\n",
        "label_counts = df1['label'].value_counts()\n",
        "\n",
        "# plot into bar chart\n",
        "plt.figure(figsize=(8, 6))\n",
        "label_counts.plot(kind='bar')\n",
        "plt.title('Label Distribution')\n",
        "plt.xlabel('Label')\n",
        "plt.ylabel('Count')\n",
        "plt.show()"
      ],
      "metadata": {
        "colab": {
          "base_uri": "https://localhost:8080/",
          "height": 708
        },
        "id": "hs1aVMUI8kvV",
        "outputId": "349e7227-25dc-426f-e80a-ce130ba0b119"
      },
      "execution_count": null,
      "outputs": [
        {
          "output_type": "display_data",
          "data": {
            "text/plain": [
              "<Figure size 800x600 with 1 Axes>"
            ],
            "image/png": "[encoded data removed]"
          },
          "metadata": {}
        }
      ]
    },
    {
      "cell_type": "code",
      "source": [
        "# see the distribution of the text label in numbers\n",
        "label_counts"
      ],
      "metadata": {
        "colab": {
          "base_uri": "https://localhost:8080/"
        },
        "id": "TV2nRD4i87S_",
        "outputId": "d3c33e7e-eb93-4e35-d253-219a7444dd99"
      },
      "execution_count": null,
      "outputs": [
        {
          "output_type": "execute_result",
          "data": {
            "text/plain": [
              "Household                 4810\n",
              "Books                     2946\n",
              "Electronics               2693\n",
              "Clothing & Accessories    2157\n",
              "Name: label, dtype: int64"
            ]
          },
          "metadata": {},
          "execution_count": 16
        }
      ]
    },
    {
      "cell_type": "markdown",
      "source": [
        "We can see here that the class is imbalanced, where most texts classified as 'Household' (around 40%, while the other are around 20%).\n",
        "\n",
        "Hence, we will use this information later for modeling."
      ],
      "metadata": {
        "id": "ylwVMMhZ0AQa"
      }
    },
    {
      "cell_type": "markdown",
      "source": [
        "Now, let's see several samples of records.."
      ],
      "metadata": {
        "id": "d8f3pKjl0acI"
      }
    },
    {
      "cell_type": "code",
      "source": [
        "# preview several samples of records\n",
        "print('Text: \\n', df1['text'].iloc[500])\n",
        "print('Label: \\n', df1['label'].iloc[500])\n",
        "print('\\n')\n",
        "print('Text: \\n', df1['text'].iloc[5000])\n",
        "print('Label: \\n', df1['label'].iloc[5000])"
      ],
      "metadata": {
        "colab": {
          "base_uri": "https://localhost:8080/"
        },
        "id": "JdTsSxVRA8AD",
        "outputId": "9101fda3-c449-473f-87f2-9e703277d2c3"
      },
      "execution_count": null,
      "outputs": [
        {
          "output_type": "stream",
          "name": "stdout",
          "text": [
            "Text: \n",
            " Alexvyan Universal World Travel Power Plug, European Adapter, AC Outlet Plugs for All Countries (White) - Pack of 2 Size name:Pack of 2   Stop carrying multiple adapters and make travelling convenient with this SmartPro all-in-one world travel adapter. Compact and a lightweight, this power adapter makes a perfect travel companion wherever you go. It is compatible with Australian, UK, Spain, US, and Japanese style plugs, making it one of the most useful and versatile plug adapters. In short, it is designed to suit the power plugs used in over 150 different countries, so you just don’t need to worry about connectivity issues when you travel abroad. This travel adapter also has a built-in surge protector to prevent power fluctuations from harming your charging gadgets. The child protection safety shutter incorporated in this adapter comes in handy in places where the power outlets are within the reach of kids. Its power indicator light lets you know if the plug is turned on/off and its open and lock switches are a great way to ensure safety. SmartPro all-in-one world travel adapter is your one-stop accessory for all your power adapter needs when you’re away from home.\n",
            "Label: \n",
            " Electronics\n",
            "\n",
            "\n",
            "Text: \n",
            " Cenizas Casual Black Waistcoat Blazers for Men Slim fit Party wear Cenizas provides you with the latest, trendy blazers & waistcoats,to make you feel Good In All Wedding And Party Functions\n",
            "Label: \n",
            " Clothing & Accessories\n"
          ]
        }
      ]
    },
    {
      "cell_type": "markdown",
      "source": [
        "We can see here that we might need some cleaning, such as making the characters into lowercase, remover punctuations, etc. This will be done in the next process, pre-processing process."
      ],
      "metadata": {
        "id": "n446eyqY4p1-"
      }
    },
    {
      "cell_type": "markdown",
      "source": [
        "## Pre-processing process"
      ],
      "metadata": {
        "id": "kPTGMj5kyMra"
      }
    },
    {
      "cell_type": "markdown",
      "source": [
        "In the pre-processing process, we will do data cleansing to remove possible URLs, punctuatons, and convert the texts into lowercase format. Then, we will do tokenization to make the each text is seperated into each word. We also remove stopwords and do lemmatization to the text to help our model in determining the correct class."
      ],
      "metadata": {
        "id": "4Bbd2YsC0mDG"
      }
    },
    {
      "cell_type": "code",
      "source": [
        "import re\n",
        "import string\n",
        "import nltk\n",
        "from nltk.corpus import stopwords\n",
        "from nltk.stem import WordNetLemmatizer"
      ],
      "metadata": {
        "id": "X2Jy7DX7yQaj"
      },
      "execution_count": null,
      "outputs": []
    },
    {
      "cell_type": "code",
      "source": [
        "# nltk.download('stopwords')\n",
        "# nltk.download('wordnet')\n",
        "# nltk.download('punkt')"
      ],
      "metadata": {
        "id": "Dkhy1c5UrL3i"
      },
      "execution_count": null,
      "outputs": []
    },
    {
      "cell_type": "code",
      "source": [
        "# define pre-processing functions\n",
        "def preprocess_text(text):\n",
        "    text = re.sub(r\"http\\S+|www\\S+|https\\S+\", \"\", text) # remove URLs\n",
        "    text = text.translate(str.maketrans(\"\", \"\", string.punctuation)) # remove punctuation\n",
        "    text = text.lower() #convert to lowercase\n",
        "\n",
        "    # tokenization\n",
        "    tokens = nltk.word_tokenize(text)\n",
        "\n",
        "    # remove stopwords\n",
        "    stop_words = set(stopwords.words('english'))\n",
        "    tokens = [token for token in tokens if token not in stop_words]\n",
        "\n",
        "    # lemmatization\n",
        "    lemmatizer = WordNetLemmatizer()\n",
        "    tokens = [lemmatizer.lemmatize(token, pos='v') for token in tokens] # also remove gerund or +ing into verb (base word)\n",
        "\n",
        "    return tokens\n"
      ],
      "metadata": {
        "id": "qmO8Gi7TaEm2"
      },
      "execution_count": null,
      "outputs": []
    },
    {
      "cell_type": "code",
      "source": [
        "# apply the pre-processing process into the text data\n",
        "df1['clean_text'] = df1['text'].apply(preprocess_text)"
      ],
      "metadata": {
        "id": "E0Q1WIdAbwJ9"
      },
      "execution_count": null,
      "outputs": []
    },
    {
      "cell_type": "markdown",
      "source": [
        "Now, we have the cleaned text. Let's take several sample and see the results!"
      ],
      "metadata": {
        "id": "nE_C5G861REL"
      }
    },
    {
      "cell_type": "code",
      "source": [
        "# see the before and adter cleaning, along with the label\n",
        "print('Text: \\n', df1['text'].iloc[500])\n",
        "print('Cleaned Text: \\n', \" \".join(df1['clean_text'].iloc[500])) # join so it will not in tokens format\n",
        "print('Label: \\n', df1['label'].iloc[500])\n",
        "print('\\n')\n",
        "print('Text: \\n', df1['text'].iloc[5000])\n",
        "print('Cleaned Text: \\n', \" \".join(df1['clean_text'].iloc[5000])) # join so it will not in tokens format\n",
        "print('Label: \\n', df1['label'].iloc[5000])"
      ],
      "metadata": {
        "colab": {
          "base_uri": "https://localhost:8080/"
        },
        "id": "1ygqo0qJrn7y",
        "outputId": "f135675a-34b4-4503-b36b-dc6370159c8a"
      },
      "execution_count": null,
      "outputs": [
        {
          "output_type": "stream",
          "name": "stdout",
          "text": [
            "Text: \n",
            " Alexvyan Universal World Travel Power Plug, European Adapter, AC Outlet Plugs for All Countries (White) - Pack of 2 Size name:Pack of 2   Stop carrying multiple adapters and make travelling convenient with this SmartPro all-in-one world travel adapter. Compact and a lightweight, this power adapter makes a perfect travel companion wherever you go. It is compatible with Australian, UK, Spain, US, and Japanese style plugs, making it one of the most useful and versatile plug adapters. In short, it is designed to suit the power plugs used in over 150 different countries, so you just don’t need to worry about connectivity issues when you travel abroad. This travel adapter also has a built-in surge protector to prevent power fluctuations from harming your charging gadgets. The child protection safety shutter incorporated in this adapter comes in handy in places where the power outlets are within the reach of kids. Its power indicator light lets you know if the plug is turned on/off and its open and lock switches are a great way to ensure safety. SmartPro all-in-one world travel adapter is your one-stop accessory for all your power adapter needs when you’re away from home.\n",
            "Cleaned Text: \n",
            " alexvyan universal world travel power plug european adapter ac outlet plug countries white pack 2 size namepack 2 stop carry multiple adapters make travel convenient smartpro allinone world travel adapter compact lightweight power adapter make perfect travel companion wherever go compatible australian uk spain us japanese style plug make one useful versatile plug adapters short design suit power plug use 150 different countries ’ need worry connectivity issue travel abroad travel adapter also builtin surge protector prevent power fluctuations harm charge gadgets child protection safety shutter incorporate adapter come handy place power outlets within reach kid power indicator light let know plug turn onoff open lock switch great way ensure safety smartpro allinone world travel adapter onestop accessory power adapter need ’ away home\n",
            "Label: \n",
            " Electronics\n",
            "\n",
            "\n",
            "Text: \n",
            " Cenizas Casual Black Waistcoat Blazers for Men Slim fit Party wear Cenizas provides you with the latest, trendy blazers & waistcoats,to make you feel Good In All Wedding And Party Functions\n",
            "Cleaned Text: \n",
            " cenizas casual black waistcoat blazers men slim fit party wear cenizas provide latest trendy blazers waistcoatsto make feel good wed party function\n",
            "Label: \n",
            " Clothing & Accessories\n"
          ]
        }
      ]
    },
    {
      "cell_type": "markdown",
      "source": [
        "We can tell that the text is cleaned, by seeing all lowercased characters, no punctuations, and each word is a lemma."
      ],
      "metadata": {
        "id": "ryaEbKFK6GOu"
      }
    },
    {
      "cell_type": "markdown",
      "source": [
        "### Data Splitting\n",
        "\n",
        "After doing the pre-processing process, we will do the data spliting. Our data is quite imbalanced, so we will do stratified sampling according to the label field. The data will be splitted into train and test data with 80:20 ratio."
      ],
      "metadata": {
        "id": "n6KpB0bWsHtv"
      }
    },
    {
      "cell_type": "code",
      "source": [
        "from sklearn.model_selection import train_test_split\n",
        "\n",
        "# split the data into train and test sets while maintaining class distribution -> using stratified sampling\n",
        "X = df1['text']\n",
        "y = df1['label']\n",
        "X_train, X_test, y_train, y_test = train_test_split(X, y, test_size=0.2, stratify=y, random_state=42)"
      ],
      "metadata": {
        "id": "1H-AFI0tsIxO"
      },
      "execution_count": null,
      "outputs": []
    },
    {
      "cell_type": "code",
      "source": [
        "print(y_train.value_counts())\n",
        "print(\"\\n Train size: \", y_train.count())"
      ],
      "metadata": {
        "colab": {
          "base_uri": "https://localhost:8080/"
        },
        "id": "yPQo-pNLtPbV",
        "outputId": "9b06793b-7119-4fcb-adf1-d83576a262ff"
      },
      "execution_count": null,
      "outputs": [
        {
          "output_type": "stream",
          "name": "stdout",
          "text": [
            "Household                 3848\n",
            "Books                     2357\n",
            "Electronics               2154\n",
            "Clothing & Accessories    1725\n",
            "Name: label, dtype: int64\n",
            "\n",
            " Train size:  10084\n"
          ]
        }
      ]
    },
    {
      "cell_type": "code",
      "source": [
        "print(y_test.value_counts())\n",
        "\n",
        "print(\"\\n Test size: \", y_test.count())"
      ],
      "metadata": {
        "colab": {
          "base_uri": "https://localhost:8080/"
        },
        "id": "i_lAKPJatlps",
        "outputId": "c348bcb7-213d-41b5-eb04-bc66c22d4727"
      },
      "execution_count": null,
      "outputs": [
        {
          "output_type": "stream",
          "name": "stdout",
          "text": [
            "Household                 962\n",
            "Books                     589\n",
            "Electronics               539\n",
            "Clothing & Accessories    432\n",
            "Name: label, dtype: int64\n",
            "\n",
            " Test size:  2522\n"
          ]
        }
      ]
    },
    {
      "cell_type": "markdown",
      "source": [
        "Now, the data is splitted and we have balanced splitted data."
      ],
      "metadata": {
        "id": "rZWUgYlBul5L"
      }
    },
    {
      "cell_type": "markdown",
      "source": [
        "## Vectorization\n",
        "\n",
        "This time, we will be using two vectorizer, namely Count Vectorizer (Bag-of-Words) and TF-IDF Vectorizer."
      ],
      "metadata": {
        "id": "TeSVByF-yPSB"
      }
    },
    {
      "cell_type": "code",
      "source": [
        "from sklearn.feature_extraction.text import CountVectorizer, TfidfVectorizer"
      ],
      "metadata": {
        "id": "lWcV6GabEvl9"
      },
      "execution_count": null,
      "outputs": []
    },
    {
      "cell_type": "code",
      "source": [
        "# vectorization using Bag-of-Words (BoW)\n",
        "vectorizer_bow = CountVectorizer()\n",
        "X_train_bow = vectorizer_bow.fit_transform(X_train)\n",
        "X_test_bow = vectorizer_bow.transform(X_test)"
      ],
      "metadata": {
        "id": "-b0OI90krdOe"
      },
      "execution_count": null,
      "outputs": []
    },
    {
      "cell_type": "code",
      "source": [
        "# vectorization using TF-IDF\n",
        "vectorizer_tfidf = TfidfVectorizer()\n",
        "X_train_tfidf = vectorizer_tfidf.fit_transform(X_train)\n",
        "X_test_tfidf = vectorizer_tfidf.transform(X_test)"
      ],
      "metadata": {
        "id": "RuexhMRaFV6K"
      },
      "execution_count": null,
      "outputs": []
    },
    {
      "cell_type": "markdown",
      "source": [
        "## Modelling\n",
        "\n",
        "In this part, we will try two different classifier, namely Naive Bayes and Support Vector Machine (SVM).\n",
        "\n",
        "Because we have done two vectorization process, we will apply each result to the modelling process. At the end, there will be four models."
      ],
      "metadata": {
        "id": "x20kBs2kyVSb"
      }
    },
    {
      "cell_type": "code",
      "source": [
        "from sklearn.naive_bayes import MultinomialNB\n",
        "from sklearn.svm import SVC"
      ],
      "metadata": {
        "id": "EqKeTt_CX_bU"
      },
      "execution_count": null,
      "outputs": []
    },
    {
      "cell_type": "code",
      "source": [
        "# Naive Bayes - BoW\n",
        "nb_model_bow = MultinomialNB() # define the classifier\n",
        "nb_model_bow.fit(X_train_bow, y_train) # fit into train data\n",
        "nb_bow_predictions = nb_model_bow.predict(X_test_bow) # predict\n",
        "\n",
        "# Naive Bayes - TFIDF\n",
        "nb_model_tfidf = MultinomialNB()\n",
        "nb_model_tfidf.fit(X_train_tfidf, y_train)\n",
        "nb_tfidf_predictions = nb_model_tfidf.predict(X_test_tfidf)"
      ],
      "metadata": {
        "id": "El4xXBryyXSa"
      },
      "execution_count": null,
      "outputs": []
    },
    {
      "cell_type": "code",
      "source": [
        "# SVM - BoW\n",
        "svm_model_bow = SVC()\n",
        "svm_model_bow.fit(X_train_bow, y_train)\n",
        "svm_bow_predictions = svm_model_bow.predict(X_test_bow)\n",
        "\n",
        "# SVM - TFIDF\n",
        "svm_model_tfidf = SVC()\n",
        "svm_model_tfidf.fit(X_train_tfidf, y_train)\n",
        "svm_tfidf_predictions = svm_model_tfidf.predict(X_test_tfidf)"
      ],
      "metadata": {
        "id": "Sdns3hTLXe37"
      },
      "execution_count": null,
      "outputs": []
    },
    {
      "cell_type": "markdown",
      "source": [
        "## Model Evaluation\n",
        "\n",
        "Now, we will evaluate our model by using several metrics such as accuracy, precision, recall, f1, and confusion matrix. For the confusion_matrix, we will also try seeing it using heat map for getting a better interpretation."
      ],
      "metadata": {
        "id": "ZpufUd4EY-h3"
      }
    },
    {
      "cell_type": "code",
      "source": [
        "import seaborn as sns\n",
        "import matplotlib.pyplot as plt\n",
        "from sklearn.metrics import accuracy_score, precision_score, recall_score, f1_score, confusion_matrix"
      ],
      "metadata": {
        "id": "NLbRXGo_ZAqw"
      },
      "execution_count": null,
      "outputs": []
    },
    {
      "cell_type": "code",
      "source": [
        "def model_evaluation(pred):\n",
        "    accuracy = accuracy_score(y_test, pred)\n",
        "    precision = precision_score(y_test, pred, average='micro')\n",
        "    recall = recall_score(y_test, pred, average='micro')\n",
        "    f1 = f1_score(y_test, pred, average='micro')\n",
        "    f1_scores = f1_score(y_test, pred, average=None)\n",
        "    conf_matrix = confusion_matrix(y_test, pred)\n",
        "\n",
        "    return accuracy, precision, recall, f1, f1_scores, conf_matrix\n",
        "\n",
        "def print_evaluation_result(pred):\n",
        "    accuracy, precision, recall, f1, f1_scores, conf_matrix = model_evaluation(pred)\n",
        "    print(\"Accuracy: \", accuracy)\n",
        "    print(\"Precision:\", precision)\n",
        "    print(\"Recall:\", recall)\n",
        "    for i, f1 in enumerate(f1_scores):\n",
        "      print(f'F1-score for class {i}: {f1}')\n",
        "    print(\"Micro F1-score:\", f1)\n",
        "    print(\"Confusion Matrix:\\n\", conf_matrix)\n",
        "    print(\"\\n\\n\")\n",
        "\n",
        "    print(\"HeatMap for Confusion Matrix:\")\n",
        "    # create heatmap from confusion matrix\n",
        "    unique_labels = sorted(set(y_test) | set(pred))\n",
        "\n",
        "    plt.figure(figsize=(8, 6))\n",
        "    sns.heatmap(conf_matrix, annot=True, fmt=\"d\", cmap=\"Blues\")\n",
        "\n",
        "    # set labels, title, and axis ticks\n",
        "    plt.xlabel(\"Predicted Labels\")\n",
        "    plt.ylabel(\"True Labels\")\n",
        "    plt.title(\"Confusion Matrix\")\n",
        "    plt.xticks(ticks=range(len(unique_labels)), labels=unique_labels)\n",
        "    plt.yticks(ticks=range(len(unique_labels)), labels=unique_labels)\n",
        "\n",
        "    # show plot\n",
        "    plt.show()\n"
      ],
      "metadata": {
        "id": "aZ46RHlvZHX7"
      },
      "execution_count": null,
      "outputs": []
    },
    {
      "cell_type": "code",
      "source": [
        "# Model 1: Naive Bayes - Bag-of-Words\n",
        "print_evaluation_result(nb_bow_predictions)"
      ],
      "metadata": {
        "colab": {
          "base_uri": "https://localhost:8080/",
          "height": 859
        },
        "id": "IK37zpbRZbX9",
        "outputId": "01caf8dd-e40f-4588-c6e2-a10dad7eacad"
      },
      "execution_count": null,
      "outputs": [
        {
          "output_type": "stream",
          "name": "stdout",
          "text": [
            "Accuracy:  0.9536082474226805\n",
            "Precision: 0.9536082474226805\n",
            "Recall: 0.9536082474226805\n",
            "F1-score for class 0: 0.9510729613733906\n",
            "F1-score for class 1: 0.9652777777777778\n",
            "F1-score for class 2: 0.9428303655107778\n",
            "F1-score for class 3: 0.9558521560574949\n",
            "Micro F1-score: 0.9558521560574949\n",
            "Confusion Matrix:\n",
            " [[554   8   5  22]\n",
            " [  5 417   1   9]\n",
            " [ 10   2 503  24]\n",
            " [  7   5  19 931]]\n",
            "\n",
            "\n",
            "\n",
            "HeatMap for Confusion Matrix:\n"
          ]
        },
        {
          "output_type": "display_data",
          "data": {
            "text/plain": [
              "<Figure size 800x600 with 2 Axes>"
            ],
            "image/png": "[encoded data removed]"
          },
          "metadata": {}
        }
      ]
    },
    {
      "cell_type": "code",
      "source": [
        "# Model 2: Naive Bayes - TF-IDF\n",
        "print_evaluation_result(nb_tfidf_predictions)"
      ],
      "metadata": {
        "colab": {
          "base_uri": "https://localhost:8080/",
          "height": 859
        },
        "id": "Ct2TBkzriFwN",
        "outputId": "968ed41e-1f0f-4f69-8704-84db5e3b0f62"
      },
      "execution_count": null,
      "outputs": [
        {
          "output_type": "stream",
          "name": "stdout",
          "text": [
            "Accuracy:  0.9214908802537668\n",
            "Precision: 0.9214908802537668\n",
            "Recall: 0.9214908802537668\n",
            "F1-score for class 0: 0.9469103568320277\n",
            "F1-score for class 1: 0.9221260815822003\n",
            "F1-score for class 2: 0.909452736318408\n",
            "F1-score for class 3: 0.913022585295531\n",
            "Micro F1-score: 0.913022585295531\n",
            "Confusion Matrix:\n",
            " [[544   3   2  40]\n",
            " [  2 373   2  55]\n",
            " [  8   0 457  74]\n",
            " [  6   1   5 950]]\n",
            "\n",
            "\n",
            "\n",
            "HeatMap for Confusion Matrix:\n"
          ]
        },
        {
          "output_type": "display_data",
          "data": {
            "text/plain": [
              "<Figure size 800x600 with 2 Axes>"
            ],
            "image/png": "[encoded data removed]"
          },
          "metadata": {}
        }
      ]
    },
    {
      "cell_type": "code",
      "source": [
        "# Model 3: Support Vector Machine - Bag-of-Words\n",
        "print_evaluation_result(svm_bow_predictions)"
      ],
      "metadata": {
        "colab": {
          "base_uri": "https://localhost:8080/",
          "height": 859
        },
        "id": "WRB9V0Ojjl39",
        "outputId": "9e1e6077-dabd-4194-8567-028db23cc52c"
      },
      "execution_count": null,
      "outputs": [
        {
          "output_type": "stream",
          "name": "stdout",
          "text": [
            "Accuracy:  0.9024583663758922\n",
            "Precision: 0.9024583663758922\n",
            "Recall: 0.9024583663758922\n",
            "F1-score for class 0: 0.8738317757009345\n",
            "F1-score for class 1: 0.9084249084249085\n",
            "F1-score for class 2: 0.8953140578265204\n",
            "F1-score for class 3: 0.9226006191950464\n",
            "Micro F1-score: 0.9226006191950464\n",
            "Confusion Matrix:\n",
            " [[561   5   5  18]\n",
            " [ 36 372   1  23]\n",
            " [ 46   3 449  41]\n",
            " [ 52   7   9 894]]\n",
            "\n",
            "\n",
            "\n",
            "HeatMap for Confusion Matrix:\n"
          ]
        },
        {
          "output_type": "display_data",
          "data": {
            "text/plain": [
              "<Figure size 800x600 with 2 Axes>"
            ],
            "image/png": "[encoded data removed]"
          },
          "metadata": {}
        }
      ]
    },
    {
      "cell_type": "code",
      "source": [
        "# Model 3: Support Vector Machine - TF-IDF\n",
        "print_evaluation_result(svm_tfidf_predictions)"
      ],
      "metadata": {
        "colab": {
          "base_uri": "https://localhost:8080/",
          "height": 859
        },
        "id": "bNURrqqYjf0F",
        "outputId": "82054ac2-1726-48b0-b3ae-e5c390981b96"
      },
      "execution_count": null,
      "outputs": [
        {
          "output_type": "stream",
          "name": "stdout",
          "text": [
            "Accuracy:  0.9623314829500397\n",
            "Precision: 0.9623314829500397\n",
            "Recall: 0.9623314829500397\n",
            "F1-score for class 0: 0.9563729683490162\n",
            "F1-score for class 1: 0.9695550351288057\n",
            "F1-score for class 2: 0.960377358490566\n",
            "F1-score for class 3: 0.9637939826619072\n",
            "Micro F1-score: 0.9637939826619072\n",
            "Confusion Matrix:\n",
            " [[559   4   4  22]\n",
            " [  5 414   1  12]\n",
            " [  8   2 509  20]\n",
            " [  8   2   7 945]]\n",
            "\n",
            "\n",
            "\n",
            "HeatMap for Confusion Matrix:\n"
          ]
        },
        {
          "output_type": "display_data",
          "data": {
            "text/plain": [
              "<Figure size 800x600 with 2 Axes>"
            ],
            "image/png": "[encoded data removed]"
          },
          "metadata": {}
        }
      ]
    },
    {
      "cell_type": "markdown",
      "source": [
        "## Summary\n",
        "\n",
        "In this summary, we will compare the evaluation results among four models and report several insights to you."
      ],
      "metadata": {
        "id": "tTWvhZD2jqvM"
      }
    },
    {
      "cell_type": "markdown",
      "source": [
        "1. When **using Naive Bayes Classifier**, we can see better result when using **Count Vectorizer (model 1)** than using TF-IDF (model 2).\n",
        "2. When **using Support Vector Machine Classifier**, we can see better result when using **TF-IDF Vectorizer (model 4)** than using Count Vectorizer (model 3).\n",
        "3. Overall, the **best model** is taken from using **Support Vector Machine Classifier along with TF-IDF Vectorizer (model 4)**.\n",
        "4. **All of the models** can predict each class very well."
      ],
      "metadata": {
        "id": "zkT2efr67fGs"
      }
    },
    {
      "cell_type": "code",
      "source": [],
      "metadata": {
        "id": "2wxDYKUN7P0_"
      },
      "execution_count": null,
      "outputs": []
    }
  ]
}