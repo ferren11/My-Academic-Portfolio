{
  "cells": [
    {
      "cell_type": "markdown",
      "metadata": {
        "id": "OJc_rW6faBga"
      },
      "source": [
        "# **Case 2: Text Classification using Large Language Model (using RoBERTa)**\n",
        "\n",
        "Name: Felicia Ferren\n",
        "\n",
        "NIM: 2440013071\n",
        "\n",
        "Video link: https://youtu.be/9gAuTkfC50M"
      ]
    },
    {
      "cell_type": "markdown",
      "source": [
        "### **Import Google Drive to colab**\n",
        "\n",
        " The data will be accessed from here."
      ],
      "metadata": {
        "id": "NkKoZwBg2CRq"
      }
    },
    {
      "cell_type": "code",
      "execution_count": null,
      "metadata": {
        "colab": {
          "base_uri": "https://localhost:8080/"
        },
        "id": "m2yPw7j-aFQi",
        "outputId": "1fb6345c-91cc-4d0f-988c-2f784ca23108"
      },
      "outputs": [
        {
          "output_type": "stream",
          "name": "stdout",
          "text": [
            "Mounted at /content/drive\n"
          ]
        }
      ],
      "source": [
        "# import drive to colab\n",
        "from google.colab import drive\n",
        "drive.mount('/content/drive')"
      ]
    },
    {
      "cell_type": "code",
      "execution_count": null,
      "metadata": {
        "colab": {
          "base_uri": "https://localhost:8080/"
        },
        "id": "W3ikoGFfaZo5",
        "outputId": "8bbcf4b5-f29e-4db6-fef4-0917dce31593"
      },
      "outputs": [
        {
          "output_type": "stream",
          "name": "stdout",
          "text": [
            "drive  sample_data\n"
          ]
        }
      ],
      "source": [
        "# view files\n",
        "! ls"
      ]
    },
    {
      "cell_type": "code",
      "execution_count": null,
      "metadata": {
        "colab": {
          "base_uri": "https://localhost:8080/"
        },
        "id": "PK2ir-6gaf3U",
        "outputId": "d1af6376-b277-4df8-c0b3-90b5a4cac05d"
      },
      "outputs": [
        {
          "output_type": "stream",
          "name": "stdout",
          "text": [
            "/content/drive/.shortcut-targets-by-id/17_YgSKIOhK4PGF8Wqf_24NDQ3BGKkPZA/uas-text-mining\n"
          ]
        }
      ],
      "source": [
        "# setting project directory\n",
        "%cd drive/My Drive/uas-text-mining"
      ]
    },
    {
      "cell_type": "markdown",
      "source": [
        "We need to install ```transformers``` to build the model."
      ],
      "metadata": {
        "id": "apeznE4X9REE"
      }
    },
    {
      "cell_type": "code",
      "execution_count": null,
      "metadata": {
        "colab": {
          "base_uri": "https://localhost:8080/"
        },
        "id": "I8L6_7G5akc4",
        "outputId": "bfdc3585-6b2d-4e96-8c16-d6646a21406a"
      },
      "outputs": [
        {
          "output_type": "stream",
          "name": "stdout",
          "text": [
            "Collecting transformers\n",
            "  Downloading transformers-4.30.2-py3-none-any.whl (7.2 MB)\n",
            "\u001b[2K     \u001b[90m━━━━━━━━━━━━━━━━━━━━━━━━━━━━━━━━━━━━━━━━\u001b[0m \u001b[32m7.2/7.2 MB\u001b[0m \u001b[31m69.8 MB/s\u001b[0m eta \u001b[36m0:00:00\u001b[0m\n",
            "\u001b[?25hRequirement already satisfied: filelock in /usr/local/lib/python3.10/dist-packages (from transformers) (3.12.2)\n",
            "Collecting huggingface-hub<1.0,>=0.14.1 (from transformers)\n",
            "  Downloading huggingface_hub-0.16.4-py3-none-any.whl (268 kB)\n",
            "\u001b[2K     \u001b[90m━━━━━━━━━━━━━━━━━━━━━━━━━━━━━━━━━━━━━━\u001b[0m \u001b[32m268.8/268.8 kB\u001b[0m \u001b[31m30.6 MB/s\u001b[0m eta \u001b[36m0:00:00\u001b[0m\n",
            "\u001b[?25hRequirement already satisfied: numpy>=1.17 in /usr/local/lib/python3.10/dist-packages (from transformers) (1.22.4)\n",
            "Requirement already satisfied: packaging>=20.0 in /usr/local/lib/python3.10/dist-packages (from transformers) (23.1)\n",
            "Requirement already satisfied: pyyaml>=5.1 in /usr/local/lib/python3.10/dist-packages (from transformers) (6.0)\n",
            "Requirement already satisfied: regex!=2019.12.17 in /usr/local/lib/python3.10/dist-packages (from transformers) (2022.10.31)\n",
            "Requirement already satisfied: requests in /usr/local/lib/python3.10/dist-packages (from transformers) (2.27.1)\n",
            "Collecting tokenizers!=0.11.3,<0.14,>=0.11.1 (from transformers)\n",
            "  Downloading tokenizers-0.13.3-cp310-cp310-manylinux_2_17_x86_64.manylinux2014_x86_64.whl (7.8 MB)\n",
            "\u001b[2K     \u001b[90m━━━━━━━━━━━━━━━━━━━━━━━━━━━━━━━━━━━━━━━━\u001b[0m \u001b[32m7.8/7.8 MB\u001b[0m \u001b[31m101.5 MB/s\u001b[0m eta \u001b[36m0:00:00\u001b[0m\n",
            "\u001b[?25hCollecting safetensors>=0.3.1 (from transformers)\n",
            "  Downloading safetensors-0.3.1-cp310-cp310-manylinux_2_17_x86_64.manylinux2014_x86_64.whl (1.3 MB)\n",
            "\u001b[2K     \u001b[90m━━━━━━━━━━━━━━━━━━━━━━━━━━━━━━━━━━━━━━━━\u001b[0m \u001b[32m1.3/1.3 MB\u001b[0m \u001b[31m75.2 MB/s\u001b[0m eta \u001b[36m0:00:00\u001b[0m\n",
            "\u001b[?25hRequirement already satisfied: tqdm>=4.27 in /usr/local/lib/python3.10/dist-packages (from transformers) (4.65.0)\n",
            "Requirement already satisfied: fsspec in /usr/local/lib/python3.10/dist-packages (from huggingface-hub<1.0,>=0.14.1->transformers) (2023.6.0)\n",
            "Requirement already satisfied: typing-extensions>=3.7.4.3 in /usr/local/lib/python3.10/dist-packages (from huggingface-hub<1.0,>=0.14.1->transformers) (4.6.3)\n",
            "Requirement already satisfied: urllib3<1.27,>=1.21.1 in /usr/local/lib/python3.10/dist-packages (from requests->transformers) (1.26.16)\n",
            "Requirement already satisfied: certifi>=2017.4.17 in /usr/local/lib/python3.10/dist-packages (from requests->transformers) (2023.5.7)\n",
            "Requirement already satisfied: charset-normalizer~=2.0.0 in /usr/local/lib/python3.10/dist-packages (from requests->transformers) (2.0.12)\n",
            "Requirement already satisfied: idna<4,>=2.5 in /usr/local/lib/python3.10/dist-packages (from requests->transformers) (3.4)\n",
            "Installing collected packages: tokenizers, safetensors, huggingface-hub, transformers\n",
            "Successfully installed huggingface-hub-0.16.4 safetensors-0.3.1 tokenizers-0.13.3 transformers-4.30.2\n"
          ]
        }
      ],
      "source": [
        "pip install transformers"
      ]
    },
    {
      "cell_type": "markdown",
      "metadata": {
        "id": "zYyBpOlq3kXK"
      },
      "source": [
        "## Load Data"
      ]
    },
    {
      "cell_type": "markdown",
      "source": [
        "Now, we load the data 'data_1B.csv' and let's see what's in there... (the process done here is the same as we did on the first case)"
      ],
      "metadata": {
        "id": "8L1702JQ2rrF"
      }
    },
    {
      "cell_type": "code",
      "execution_count": null,
      "metadata": {
        "id": "NjGBQkjebMjH"
      },
      "outputs": [],
      "source": [
        "# import libraries\n",
        "import pandas as pd\n",
        "import numpy as np\n",
        "import matplotlib.pyplot as plt"
      ]
    },
    {
      "cell_type": "code",
      "execution_count": null,
      "metadata": {
        "colab": {
          "base_uri": "https://localhost:8080/",
          "height": 206
        },
        "id": "F-gAHfIjaf_E",
        "outputId": "05633d4a-dbff-464d-eb3b-d71d4760524a"
      },
      "outputs": [
        {
          "output_type": "execute_result",
          "data": {
            "text/plain": [
              "   Unnamed: 0                                               text  \\\n",
              "0           0  AV2 Women Maternity Wear/Feedind/Nursing Top &...   \n",
              "1           1  Houskipper Professional Spray Mop with Best 36...   \n",
              "2           2  Tat-Sat Ceramic Fondue Burner , Black This Fon...   \n",
              "3           3  Prestige Plastic Hand Blender, Orange Save tim...   \n",
              "4           4  Gorilla Renesa+ Energy Saving 5 Star Rated Cei...   \n",
              "\n",
              "                    label  \n",
              "0  Clothing & Accessories  \n",
              "1               Household  \n",
              "2               Household  \n",
              "3               Household  \n",
              "4               Household  "
            ],
            "text/html": [
              "\n",
              "  <div id=\"df-cfc115c1-766a-4fd5-94fb-ea3af1520f3f\">\n",
              "    <div class=\"colab-df-container\">\n",
              "      <div>\n",
              "<style scoped>\n",
              "    .dataframe tbody tr th:only-of-type {\n",
              "        vertical-align: middle;\n",
              "    }\n",
              "\n",
              "    .dataframe tbody tr th {\n",
              "        vertical-align: top;\n",
              "    }\n",
              "\n",
              "    .dataframe thead th {\n",
              "        text-align: right;\n",
              "    }\n",
              "</style>\n",
              "<table border=\"1\" class=\"dataframe\">\n",
              "  <thead>\n",
              "    <tr style=\"text-align: right;\">\n",
              "      <th></th>\n",
              "      <th>Unnamed: 0</th>\n",
              "      <th>text</th>\n",
              "      <th>label</th>\n",
              "    </tr>\n",
              "  </thead>\n",
              "  <tbody>\n",
              "    <tr>\n",
              "      <th>0</th>\n",
              "      <td>0</td>\n",
              "      <td>AV2 Women Maternity Wear/Feedind/Nursing Top &amp;...</td>\n",
              "      <td>Clothing &amp; Accessories</td>\n",
              "    </tr>\n",
              "    <tr>\n",
              "      <th>1</th>\n",
              "      <td>1</td>\n",
              "      <td>Houskipper Professional Spray Mop with Best 36...</td>\n",
              "      <td>Household</td>\n",
              "    </tr>\n",
              "    <tr>\n",
              "      <th>2</th>\n",
              "      <td>2</td>\n",
              "      <td>Tat-Sat Ceramic Fondue Burner , Black This Fon...</td>\n",
              "      <td>Household</td>\n",
              "    </tr>\n",
              "    <tr>\n",
              "      <th>3</th>\n",
              "      <td>3</td>\n",
              "      <td>Prestige Plastic Hand Blender, Orange Save tim...</td>\n",
              "      <td>Household</td>\n",
              "    </tr>\n",
              "    <tr>\n",
              "      <th>4</th>\n",
              "      <td>4</td>\n",
              "      <td>Gorilla Renesa+ Energy Saving 5 Star Rated Cei...</td>\n",
              "      <td>Household</td>\n",
              "    </tr>\n",
              "  </tbody>\n",
              "</table>\n",
              "</div>\n",
              "      <button class=\"colab-df-convert\" onclick=\"convertToInteractive('df-cfc115c1-766a-4fd5-94fb-ea3af1520f3f')\"\n",
              "              title=\"Convert this dataframe to an interactive table.\"\n",
              "              style=\"display:none;\">\n",
              "        \n",
              "  <svg xmlns=\"http://www.w3.org/2000/svg\" height=\"24px\"viewBox=\"0 0 24 24\"\n",
              "       width=\"24px\">\n",
              "    <path d=\"M0 0h24v24H0V0z\" fill=\"none\"/>\n",
              "    <path d=\"M18.56 5.44l.94 2.06.94-2.06 2.06-.94-2.06-.94-.94-2.06-.94 2.06-2.06.94zm-11 1L8.5 8.5l.94-2.06 2.06-.94-2.06-.94L8.5 2.5l-.94 2.06-2.06.94zm10 10l.94 2.06.94-2.06 2.06-.94-2.06-.94-.94-2.06-.94 2.06-2.06.94z\"/><path d=\"M17.41 7.96l-1.37-1.37c-.4-.4-.92-.59-1.43-.59-.52 0-1.04.2-1.43.59L10.3 9.45l-7.72 7.72c-.78.78-.78 2.05 0 2.83L4 21.41c.39.39.9.59 1.41.59.51 0 1.02-.2 1.41-.59l7.78-7.78 2.81-2.81c.8-.78.8-2.07 0-2.86zM5.41 20L4 18.59l7.72-7.72 1.47 1.35L5.41 20z\"/>\n",
              "  </svg>\n",
              "      </button>\n",
              "      \n",
              "  <style>\n",
              "    .colab-df-container {\n",
              "      display:flex;\n",
              "      flex-wrap:wrap;\n",
              "      gap: 12px;\n",
              "    }\n",
              "\n",
              "    .colab-df-convert {\n",
              "      background-color: #E8F0FE;\n",
              "      border: none;\n",
              "      border-radius: 50%;\n",
              "      cursor: pointer;\n",
              "      display: none;\n",
              "      fill: #1967D2;\n",
              "      height: 32px;\n",
              "      padding: 0 0 0 0;\n",
              "      width: 32px;\n",
              "    }\n",
              "\n",
              "    .colab-df-convert:hover {\n",
              "      background-color: #E2EBFA;\n",
              "      box-shadow: 0px 1px 2px rgba(60, 64, 67, 0.3), 0px 1px 3px 1px rgba(60, 64, 67, 0.15);\n",
              "      fill: #174EA6;\n",
              "    }\n",
              "\n",
              "    [theme=dark] .colab-df-convert {\n",
              "      background-color: #3B4455;\n",
              "      fill: #D2E3FC;\n",
              "    }\n",
              "\n",
              "    [theme=dark] .colab-df-convert:hover {\n",
              "      background-color: #434B5C;\n",
              "      box-shadow: 0px 1px 3px 1px rgba(0, 0, 0, 0.15);\n",
              "      filter: drop-shadow(0px 1px 2px rgba(0, 0, 0, 0.3));\n",
              "      fill: #FFFFFF;\n",
              "    }\n",
              "  </style>\n",
              "\n",
              "      <script>\n",
              "        const buttonEl =\n",
              "          document.querySelector('#df-cfc115c1-766a-4fd5-94fb-ea3af1520f3f button.colab-df-convert');\n",
              "        buttonEl.style.display =\n",
              "          google.colab.kernel.accessAllowed ? 'block' : 'none';\n",
              "\n",
              "        async function convertToInteractive(key) {\n",
              "          const element = document.querySelector('#df-cfc115c1-766a-4fd5-94fb-ea3af1520f3f');\n",
              "          const dataTable =\n",
              "            await google.colab.kernel.invokeFunction('convertToInteractive',\n",
              "                                                     [key], {});\n",
              "          if (!dataTable) return;\n",
              "\n",
              "          const docLinkHtml = 'Like what you see? Visit the ' +\n",
              "            '<a target=\"_blank\" href=https://colab.research.google.com/notebooks/data_table.ipynb>data table notebook</a>'\n",
              "            + ' to learn more about interactive tables.';\n",
              "          element.innerHTML = '';\n",
              "          dataTable['output_type'] = 'display_data';\n",
              "          await google.colab.output.renderOutput(dataTable, element);\n",
              "          const docLink = document.createElement('div');\n",
              "          docLink.innerHTML = docLinkHtml;\n",
              "          element.appendChild(docLink);\n",
              "        }\n",
              "      </script>\n",
              "    </div>\n",
              "  </div>\n",
              "  "
            ]
          },
          "metadata": {},
          "execution_count": 6
        }
      ],
      "source": [
        "# read data\n",
        "df = pd.read_csv('data_1B.csv')\n",
        "\n",
        "df.head(5)"
      ]
    },
    {
      "cell_type": "markdown",
      "source": [
        "we can see here that maybe this Unnamed: 0 field is just the index of our observations, so we can just remove them."
      ],
      "metadata": {
        "id": "o8Hsrfuz238B"
      }
    },
    {
      "cell_type": "code",
      "execution_count": null,
      "metadata": {
        "colab": {
          "base_uri": "https://localhost:8080/",
          "height": 206
        },
        "id": "ZwCWYeSnagPG",
        "outputId": "6a77c0f1-2b56-4660-fbe9-931687e158ba"
      },
      "outputs": [
        {
          "output_type": "execute_result",
          "data": {
            "text/plain": [
              "                                                text                   label\n",
              "0  AV2 Women Maternity Wear/Feedind/Nursing Top &...  Clothing & Accessories\n",
              "1  Houskipper Professional Spray Mop with Best 36...               Household\n",
              "2  Tat-Sat Ceramic Fondue Burner , Black This Fon...               Household\n",
              "3  Prestige Plastic Hand Blender, Orange Save tim...               Household\n",
              "4  Gorilla Renesa+ Energy Saving 5 Star Rated Cei...               Household"
            ],
            "text/html": [
              "\n",
              "  <div id=\"df-d2d80fb0-fab8-4297-ae13-c5fe5f2e2cc3\">\n",
              "    <div class=\"colab-df-container\">\n",
              "      <div>\n",
              "<style scoped>\n",
              "    .dataframe tbody tr th:only-of-type {\n",
              "        vertical-align: middle;\n",
              "    }\n",
              "\n",
              "    .dataframe tbody tr th {\n",
              "        vertical-align: top;\n",
              "    }\n",
              "\n",
              "    .dataframe thead th {\n",
              "        text-align: right;\n",
              "    }\n",
              "</style>\n",
              "<table border=\"1\" class=\"dataframe\">\n",
              "  <thead>\n",
              "    <tr style=\"text-align: right;\">\n",
              "      <th></th>\n",
              "      <th>text</th>\n",
              "      <th>label</th>\n",
              "    </tr>\n",
              "  </thead>\n",
              "  <tbody>\n",
              "    <tr>\n",
              "      <th>0</th>\n",
              "      <td>AV2 Women Maternity Wear/Feedind/Nursing Top &amp;...</td>\n",
              "      <td>Clothing &amp; Accessories</td>\n",
              "    </tr>\n",
              "    <tr>\n",
              "      <th>1</th>\n",
              "      <td>Houskipper Professional Spray Mop with Best 36...</td>\n",
              "      <td>Household</td>\n",
              "    </tr>\n",
              "    <tr>\n",
              "      <th>2</th>\n",
              "      <td>Tat-Sat Ceramic Fondue Burner , Black This Fon...</td>\n",
              "      <td>Household</td>\n",
              "    </tr>\n",
              "    <tr>\n",
              "      <th>3</th>\n",
              "      <td>Prestige Plastic Hand Blender, Orange Save tim...</td>\n",
              "      <td>Household</td>\n",
              "    </tr>\n",
              "    <tr>\n",
              "      <th>4</th>\n",
              "      <td>Gorilla Renesa+ Energy Saving 5 Star Rated Cei...</td>\n",
              "      <td>Household</td>\n",
              "    </tr>\n",
              "  </tbody>\n",
              "</table>\n",
              "</div>\n",
              "      <button class=\"colab-df-convert\" onclick=\"convertToInteractive('df-d2d80fb0-fab8-4297-ae13-c5fe5f2e2cc3')\"\n",
              "              title=\"Convert this dataframe to an interactive table.\"\n",
              "              style=\"display:none;\">\n",
              "        \n",
              "  <svg xmlns=\"http://www.w3.org/2000/svg\" height=\"24px\"viewBox=\"0 0 24 24\"\n",
              "       width=\"24px\">\n",
              "    <path d=\"M0 0h24v24H0V0z\" fill=\"none\"/>\n",
              "    <path d=\"M18.56 5.44l.94 2.06.94-2.06 2.06-.94-2.06-.94-.94-2.06-.94 2.06-2.06.94zm-11 1L8.5 8.5l.94-2.06 2.06-.94-2.06-.94L8.5 2.5l-.94 2.06-2.06.94zm10 10l.94 2.06.94-2.06 2.06-.94-2.06-.94-.94-2.06-.94 2.06-2.06.94z\"/><path d=\"M17.41 7.96l-1.37-1.37c-.4-.4-.92-.59-1.43-.59-.52 0-1.04.2-1.43.59L10.3 9.45l-7.72 7.72c-.78.78-.78 2.05 0 2.83L4 21.41c.39.39.9.59 1.41.59.51 0 1.02-.2 1.41-.59l7.78-7.78 2.81-2.81c.8-.78.8-2.07 0-2.86zM5.41 20L4 18.59l7.72-7.72 1.47 1.35L5.41 20z\"/>\n",
              "  </svg>\n",
              "      </button>\n",
              "      \n",
              "  <style>\n",
              "    .colab-df-container {\n",
              "      display:flex;\n",
              "      flex-wrap:wrap;\n",
              "      gap: 12px;\n",
              "    }\n",
              "\n",
              "    .colab-df-convert {\n",
              "      background-color: #E8F0FE;\n",
              "      border: none;\n",
              "      border-radius: 50%;\n",
              "      cursor: pointer;\n",
              "      display: none;\n",
              "      fill: #1967D2;\n",
              "      height: 32px;\n",
              "      padding: 0 0 0 0;\n",
              "      width: 32px;\n",
              "    }\n",
              "\n",
              "    .colab-df-convert:hover {\n",
              "      background-color: #E2EBFA;\n",
              "      box-shadow: 0px 1px 2px rgba(60, 64, 67, 0.3), 0px 1px 3px 1px rgba(60, 64, 67, 0.15);\n",
              "      fill: #174EA6;\n",
              "    }\n",
              "\n",
              "    [theme=dark] .colab-df-convert {\n",
              "      background-color: #3B4455;\n",
              "      fill: #D2E3FC;\n",
              "    }\n",
              "\n",
              "    [theme=dark] .colab-df-convert:hover {\n",
              "      background-color: #434B5C;\n",
              "      box-shadow: 0px 1px 3px 1px rgba(0, 0, 0, 0.15);\n",
              "      filter: drop-shadow(0px 1px 2px rgba(0, 0, 0, 0.3));\n",
              "      fill: #FFFFFF;\n",
              "    }\n",
              "  </style>\n",
              "\n",
              "      <script>\n",
              "        const buttonEl =\n",
              "          document.querySelector('#df-d2d80fb0-fab8-4297-ae13-c5fe5f2e2cc3 button.colab-df-convert');\n",
              "        buttonEl.style.display =\n",
              "          google.colab.kernel.accessAllowed ? 'block' : 'none';\n",
              "\n",
              "        async function convertToInteractive(key) {\n",
              "          const element = document.querySelector('#df-d2d80fb0-fab8-4297-ae13-c5fe5f2e2cc3');\n",
              "          const dataTable =\n",
              "            await google.colab.kernel.invokeFunction('convertToInteractive',\n",
              "                                                     [key], {});\n",
              "          if (!dataTable) return;\n",
              "\n",
              "          const docLinkHtml = 'Like what you see? Visit the ' +\n",
              "            '<a target=\"_blank\" href=https://colab.research.google.com/notebooks/data_table.ipynb>data table notebook</a>'\n",
              "            + ' to learn more about interactive tables.';\n",
              "          element.innerHTML = '';\n",
              "          dataTable['output_type'] = 'display_data';\n",
              "          await google.colab.output.renderOutput(dataTable, element);\n",
              "          const docLink = document.createElement('div');\n",
              "          docLink.innerHTML = docLinkHtml;\n",
              "          element.appendChild(docLink);\n",
              "        }\n",
              "      </script>\n",
              "    </div>\n",
              "  </div>\n",
              "  "
            ]
          },
          "metadata": {},
          "execution_count": 7
        }
      ],
      "source": [
        "# drop out the first field, we will only take text and label field\n",
        "df1 = df.iloc[:, 1:].copy()\n",
        "\n",
        "df1.head(5)"
      ]
    },
    {
      "cell_type": "markdown",
      "source": [
        "now, we have a dataframe with 2 variables, which are 'text' and 'label'. The 'text' is the sentences and they are classified into a label in 'label' field. Let's find out more in EDA!"
      ],
      "metadata": {
        "id": "3geP8VYz3ZNm"
      }
    },
    {
      "cell_type": "markdown",
      "metadata": {
        "id": "_DeSTm7T3cSm"
      },
      "source": [
        "## Exploratory Data Analysis"
      ]
    },
    {
      "cell_type": "markdown",
      "source": [
        "Now, we will gather more information about our dataset in this section. (the process done here is the same as we did on the first case)"
      ],
      "metadata": {
        "id": "xpNETuIO3dVV"
      }
    },
    {
      "cell_type": "code",
      "execution_count": null,
      "metadata": {
        "colab": {
          "base_uri": "https://localhost:8080/"
        },
        "id": "sw9f5XCjnk1M",
        "outputId": "cc41afc2-e0db-405b-9a46-e1cfa89aca36"
      },
      "outputs": [
        {
          "output_type": "execute_result",
          "data": {
            "text/plain": [
              "(12606, 2)"
            ]
          },
          "metadata": {},
          "execution_count": 8
        }
      ],
      "source": [
        "# view shape\n",
        "df1.shape"
      ]
    },
    {
      "cell_type": "code",
      "execution_count": null,
      "metadata": {
        "colab": {
          "base_uri": "https://localhost:8080/"
        },
        "id": "1P2pNp5HpZBK",
        "outputId": "593944c4-b8d8-495e-d5c8-84642809de5b"
      },
      "outputs": [
        {
          "output_type": "stream",
          "name": "stdout",
          "text": [
            "<class 'pandas.core.frame.DataFrame'>\n",
            "RangeIndex: 12606 entries, 0 to 12605\n",
            "Data columns (total 2 columns):\n",
            " #   Column  Non-Null Count  Dtype \n",
            "---  ------  --------------  ----- \n",
            " 0   text    12606 non-null  object\n",
            " 1   label   12606 non-null  object\n",
            "dtypes: object(2)\n",
            "memory usage: 197.1+ KB\n"
          ]
        }
      ],
      "source": [
        "df1.info()"
      ]
    },
    {
      "cell_type": "markdown",
      "source": [
        "Here, we can tell that there are 12606 observations in our dataset where there is likely no NULL values.\n",
        "\n",
        "Now, we will check the count of the text's label and see the distributions."
      ],
      "metadata": {
        "id": "wtsyiyrl4ZZ7"
      }
    },
    {
      "cell_type": "code",
      "execution_count": null,
      "metadata": {
        "colab": {
          "base_uri": "https://localhost:8080/",
          "height": 708
        },
        "id": "GlvlIRf4pZ3o",
        "outputId": "6f4037d8-3181-4bc9-c18d-804cfeb1360a"
      },
      "outputs": [
        {
          "output_type": "display_data",
          "data": {
            "text/plain": [
              "<Figure size 800x600 with 1 Axes>"
            ],
            "image/png": "[encoded data removed]"
          },
          "metadata": {}
        }
      ],
      "source": [
        "# check the count of text label\n",
        "label_counts = df1['label'].value_counts()\n",
        "\n",
        "# plot into bar chart\n",
        "plt.figure(figsize=(8, 6))\n",
        "label_counts.plot(kind='bar')\n",
        "plt.title('Label Distribution')\n",
        "plt.xlabel('Label')\n",
        "plt.ylabel('Count')\n",
        "plt.show()"
      ]
    },
    {
      "cell_type": "code",
      "execution_count": null,
      "metadata": {
        "colab": {
          "base_uri": "https://localhost:8080/"
        },
        "id": "PWISXH7Cpd8a",
        "outputId": "c19dc8f2-aaa2-4625-e4f9-60e9f9d891cf"
      },
      "outputs": [
        {
          "output_type": "execute_result",
          "data": {
            "text/plain": [
              "Household                 4810\n",
              "Books                     2946\n",
              "Electronics               2693\n",
              "Clothing & Accessories    2157\n",
              "Name: label, dtype: int64"
            ]
          },
          "metadata": {},
          "execution_count": 11
        }
      ],
      "source": [
        "# see the distribution of the text label in numbers\n",
        "label_counts"
      ]
    },
    {
      "cell_type": "markdown",
      "source": [
        "We can see here that the class is imbalanced, where most texts classified as 'Household' (around 40%, while the other are around 20%).\n",
        "\n",
        "Hence, we will use this information later for modeling."
      ],
      "metadata": {
        "id": "sGWVTHJA4cor"
      }
    },
    {
      "cell_type": "markdown",
      "source": [
        "Now, let's see several samples of records.."
      ],
      "metadata": {
        "id": "c4pgg9sq4nJ0"
      }
    },
    {
      "cell_type": "code",
      "execution_count": null,
      "metadata": {
        "colab": {
          "base_uri": "https://localhost:8080/"
        },
        "id": "C6c8gGVNpgTW",
        "outputId": "45b8df6c-5861-4352-e34b-b8fd66f9c2aa"
      },
      "outputs": [
        {
          "output_type": "stream",
          "name": "stdout",
          "text": [
            "Text: \n",
            " Alexvyan Universal World Travel Power Plug, European Adapter, AC Outlet Plugs for All Countries (White) - Pack of 2 Size name:Pack of 2   Stop carrying multiple adapters and make travelling convenient with this SmartPro all-in-one world travel adapter. Compact and a lightweight, this power adapter makes a perfect travel companion wherever you go. It is compatible with Australian, UK, Spain, US, and Japanese style plugs, making it one of the most useful and versatile plug adapters. In short, it is designed to suit the power plugs used in over 150 different countries, so you just don’t need to worry about connectivity issues when you travel abroad. This travel adapter also has a built-in surge protector to prevent power fluctuations from harming your charging gadgets. The child protection safety shutter incorporated in this adapter comes in handy in places where the power outlets are within the reach of kids. Its power indicator light lets you know if the plug is turned on/off and its open and lock switches are a great way to ensure safety. SmartPro all-in-one world travel adapter is your one-stop accessory for all your power adapter needs when you’re away from home.\n",
            "Label: \n",
            " Electronics\n",
            "\n",
            "\n",
            "Text: \n",
            " Cenizas Casual Black Waistcoat Blazers for Men Slim fit Party wear Cenizas provides you with the latest, trendy blazers & waistcoats,to make you feel Good In All Wedding And Party Functions\n",
            "Label: \n",
            " Clothing & Accessories\n"
          ]
        }
      ],
      "source": [
        "# preview several samples of records\n",
        "print('Text: \\n', df1['text'].iloc[500])\n",
        "print('Label: \\n', df1['label'].iloc[500])\n",
        "print('\\n')\n",
        "print('Text: \\n', df1['text'].iloc[5000])\n",
        "print('Label: \\n', df1['label'].iloc[5000])"
      ]
    },
    {
      "cell_type": "markdown",
      "source": [
        "We can see here that we might need some cleaning, such as making the characters into lowercase, remover punctuations, etc. This will be done in the next process, pre-processing process.\n",
        "\n",
        "Then, we want to know the distribution of our text length in order to set the max_length in the modelling process."
      ],
      "metadata": {
        "id": "chn-zGFZ79or"
      }
    },
    {
      "cell_type": "code",
      "execution_count": null,
      "metadata": {
        "colab": {
          "base_uri": "https://localhost:8080/",
          "height": 472
        },
        "id": "7zK_KmsMphvG",
        "outputId": "71bf912f-fd2b-4903-a34c-fc05f223afd9"
      },
      "outputs": [
        {
          "output_type": "display_data",
          "data": {
            "text/plain": [
              "<Figure size 640x480 with 1 Axes>"
            ],
            "image/png": "[encoded data removed]"
          },
          "metadata": {}
        }
      ],
      "source": [
        "# find out the distribution of text length\n",
        "df1['length'] = df1['text'].apply(lambda x: len(x.split()))\n",
        "\n",
        "plt.hist(df1['length'], bins=120)\n",
        "plt.xlabel('Text Length')\n",
        "plt.ylabel('Frequency')\n",
        "plt.title('Distribution of Text Length')\n",
        "plt.xlim(0, 1000)\n",
        "plt.show()"
      ]
    },
    {
      "cell_type": "markdown",
      "source": [
        "From the plot above, we can tell that our texts are centered to lower text length. Most samples have around under 200 words in it. If we look at the graph thoroughly, we can see there is a bit sample having more than 400 text length, that might considered as outliers (out of the majority of our data).\n",
        "\n",
        "Hence, later in the modelling, **we will take the max_length of 256** because  it's approximate boundary for our data text, where we can have most of the observations below the limit (and only a few that exceed the limit). We have to set the parameter max_length because RoBERTa model has limitation on the maximum length of input sequence they can handle. So, if the input sequence exceed that length, it needs to be truncated or shortened to fit the model's requirement. On the other side, the ones which shorter than max_length will be padded until matching the maximum length.\n",
        "\n",
        "Setting the appropiate max_length value is important, because we want to balance the trade-off between retaining important information in longer sequences and managing computational resources and model memory."
      ],
      "metadata": {
        "id": "Fqu77pOh8WQ3"
      }
    },
    {
      "cell_type": "markdown",
      "metadata": {
        "id": "8_8N4afQ38TT"
      },
      "source": [
        "## Pre-Processing Process"
      ]
    },
    {
      "cell_type": "markdown",
      "source": [
        "In the preprocessing process, we will clean the data by removing URLs, remove punctuation, and convert to lowercase. Then, we will do tokenization and remove the stopwords inside the texts. Lastly, we do lemmatization to get the data into the normal (lemma) form and bring back into string. **In the modelling process, we will be using pre-trained model from RoBERTa (A Robustly Optimized BERT Pretraining Approach)**. Although RoBERTA already includes tokenization and vectorization, we did the same pre-processing process to match the pre-processing on the first case."
      ],
      "metadata": {
        "id": "wxQ4LAZk9N2K"
      }
    },
    {
      "cell_type": "code",
      "execution_count": null,
      "metadata": {
        "id": "hxthVAHS38t6"
      },
      "outputs": [],
      "source": [
        "import re\n",
        "import string\n",
        "import nltk\n",
        "from nltk.corpus import stopwords\n",
        "from nltk.stem import WordNetLemmatizer"
      ]
    },
    {
      "cell_type": "code",
      "execution_count": null,
      "metadata": {
        "colab": {
          "base_uri": "https://localhost:8080/"
        },
        "id": "Lh1DoT0B4MmS",
        "outputId": "d7d4ebcd-9795-4449-820d-c43206a9c32c"
      },
      "outputs": [
        {
          "output_type": "stream",
          "name": "stderr",
          "text": [
            "[nltk_data] Downloading package stopwords to /root/nltk_data...\n",
            "[nltk_data]   Unzipping corpora/stopwords.zip.\n",
            "[nltk_data] Downloading package wordnet to /root/nltk_data...\n",
            "[nltk_data] Downloading package punkt to /root/nltk_data...\n",
            "[nltk_data]   Unzipping tokenizers/punkt.zip.\n"
          ]
        },
        {
          "output_type": "execute_result",
          "data": {
            "text/plain": [
              "True"
            ]
          },
          "metadata": {},
          "execution_count": 15
        }
      ],
      "source": [
        "nltk.download('stopwords')\n",
        "nltk.download('wordnet')\n",
        "nltk.download('punkt')"
      ]
    },
    {
      "cell_type": "code",
      "execution_count": null,
      "metadata": {
        "id": "1hCf5lV84OCC"
      },
      "outputs": [],
      "source": [
        "# define pre-processing functions\n",
        "def preprocess_text(text):\n",
        "    text = re.sub(r\"http\\S+|www\\S+|https\\S+\", \"\", text) # remove URLs\n",
        "    text = text.translate(str.maketrans(\"\", \"\", string.punctuation)) # remove punctuation\n",
        "    text = text.lower() #convert to lowercase\n",
        "\n",
        "    # tokenization\n",
        "    tokens = nltk.word_tokenize(text)\n",
        "\n",
        "    # remove stopwords\n",
        "    stop_words = set(stopwords.words('english'))\n",
        "    tokens = [token for token in tokens if token not in stop_words]\n",
        "\n",
        "    # lemmatization\n",
        "    lemmatizer = WordNetLemmatizer()\n",
        "    tokens = [lemmatizer.lemmatize(token, pos='v') for token in tokens] # also remove gerund or +ing into verb (base word)\n",
        "\n",
        "    # join back token into string\n",
        "    preprocessed_text = \" \".join(tokens)\n",
        "\n",
        "    return preprocessed_text"
      ]
    },
    {
      "cell_type": "markdown",
      "source": [
        "Here, we joined the tokens back into string because the RoBERTa takes the string format and will do the tokenization along with vectorization (inside the pre-trained model)."
      ],
      "metadata": {
        "id": "jdtBumG0_doi"
      }
    },
    {
      "cell_type": "markdown",
      "source": [
        "Then, we try applying the pre-process function into the text data and see the sample results!"
      ],
      "metadata": {
        "id": "BDpPG1faARBJ"
      }
    },
    {
      "cell_type": "code",
      "execution_count": null,
      "metadata": {
        "id": "3qSVAjSy5rIx"
      },
      "outputs": [],
      "source": [
        "# apply the pre-processing process into the text data\n",
        "df1['clean_text'] = df1['text'].apply(preprocess_text)"
      ]
    },
    {
      "cell_type": "code",
      "execution_count": null,
      "metadata": {
        "colab": {
          "base_uri": "https://localhost:8080/"
        },
        "id": "EiCTcEq65zeu",
        "outputId": "10e9873a-5bf7-4f85-e807-a283c65e7cce"
      },
      "outputs": [
        {
          "output_type": "stream",
          "name": "stdout",
          "text": [
            "Text: \n",
            " Alexvyan Universal World Travel Power Plug, European Adapter, AC Outlet Plugs for All Countries (White) - Pack of 2 Size name:Pack of 2   Stop carrying multiple adapters and make travelling convenient with this SmartPro all-in-one world travel adapter. Compact and a lightweight, this power adapter makes a perfect travel companion wherever you go. It is compatible with Australian, UK, Spain, US, and Japanese style plugs, making it one of the most useful and versatile plug adapters. In short, it is designed to suit the power plugs used in over 150 different countries, so you just don’t need to worry about connectivity issues when you travel abroad. This travel adapter also has a built-in surge protector to prevent power fluctuations from harming your charging gadgets. The child protection safety shutter incorporated in this adapter comes in handy in places where the power outlets are within the reach of kids. Its power indicator light lets you know if the plug is turned on/off and its open and lock switches are a great way to ensure safety. SmartPro all-in-one world travel adapter is your one-stop accessory for all your power adapter needs when you’re away from home.\n",
            "Cleaned Text: \n",
            " alexvyan universal world travel power plug european adapter ac outlet plug countries white pack 2 size namepack 2 stop carry multiple adapters make travel convenient smartpro allinone world travel adapter compact lightweight power adapter make perfect travel companion wherever go compatible australian uk spain us japanese style plug make one useful versatile plug adapters short design suit power plug use 150 different countries ’ need worry connectivity issue travel abroad travel adapter also builtin surge protector prevent power fluctuations harm charge gadgets child protection safety shutter incorporate adapter come handy place power outlets within reach kid power indicator light let know plug turn onoff open lock switch great way ensure safety smartpro allinone world travel adapter onestop accessory power adapter need ’ away home\n",
            "Label: \n",
            " Electronics\n",
            "\n",
            "\n",
            "Text: \n",
            " Cenizas Casual Black Waistcoat Blazers for Men Slim fit Party wear Cenizas provides you with the latest, trendy blazers & waistcoats,to make you feel Good In All Wedding And Party Functions\n",
            "Cleaned Text: \n",
            " cenizas casual black waistcoat blazers men slim fit party wear cenizas provide latest trendy blazers waistcoatsto make feel good wed party function\n",
            "Label: \n",
            " Clothing & Accessories\n"
          ]
        }
      ],
      "source": [
        "print('Text: \\n', df1['text'].iloc[500])\n",
        "print('Cleaned Text: \\n', df1['clean_text'].iloc[500])\n",
        "print('Label: \\n', df1['label'].iloc[500])\n",
        "print('\\n')\n",
        "print('Text: \\n', df1['text'].iloc[5000])\n",
        "print('Cleaned Text: \\n', df1['clean_text'].iloc[5000])\n",
        "print('Label: \\n', df1['label'].iloc[5000])"
      ]
    },
    {
      "cell_type": "markdown",
      "source": [
        "Here, we can see that the data has successfully cleaned.\n",
        "\n",
        "Now, we tried to define several configuration needed for the next processes.."
      ],
      "metadata": {
        "id": "FenSF5gAAYcz"
      }
    },
    {
      "cell_type": "code",
      "execution_count": null,
      "metadata": {
        "id": "aK7UbQTU8ay0"
      },
      "outputs": [],
      "source": [
        "import torch\n",
        "from transformers import RobertaTokenizer, RobertaForSequenceClassification\n",
        "from torch.utils.data import DataLoader, TensorDataset\n",
        "from torch.optim import AdamW\n",
        "from tqdm import tqdm"
      ]
    },
    {
      "cell_type": "code",
      "execution_count": null,
      "metadata": {
        "id": "jDrEyUn58IkD",
        "colab": {
          "base_uri": "https://localhost:8080/",
          "height": 113,
          "referenced_widgets": [
            "04ca015b3e7247718e72d04b4449c5ac",
            "55335e544dd44892a89a0cf6670314e0",
            "f3b6d11a83754e9ba348ad27359ef082",
            "e7d0c71cb9b649209c7a8adfa72ef511",
            "a8fd686a660e498eaa4f1941d6f5b191",
            "5f32d710bf004e3ba25f2f98a3b7357b",
            "cb65a5d39072492bb9743795ead44b47",
            "a0ff1147045d481e94f033e488eff5b1",
            "751bceab25434cafae815fa42e87d181",
            "e38afa65f86a4363bae30f861f84b2aa",
            "d27d4786946a414d83e6f6f729a64df4",
            "2d69febcdb2b4421a0960ade0aec974a",
            "0a2b61c732f643b4b3684e2dce4f0400",
            "9d58c9f4bace43818ee617d89756134d",
            "6904589b97e44998b2b89becd150d11d",
            "801e829f6ffd467f9adbc56f73a35fb9",
            "aef65f160c6747919218c7c4b650eced",
            "e1f266e29ddc4056a47d9898433fdd16",
            "46ddcecfb8d84a2185b3b927ad03bbaf",
            "14ddb64666ae4f68b6ba17ae6f91d195",
            "842c0febbbd04e3e866bbe7db746d216",
            "b3d28a2f186b4692b3fb036271e522a1",
            "d3aeabb080c0424298625e038c33bfa2",
            "ca7e55e459d046a98164445a583ca188",
            "f208e35b496948d4b716a3cebdcb6ec2",
            "af0ef4c6c64c4606bdf01bb2e983b5ae",
            "2ee2a7665c7845ed9c3d196f5c7d5932",
            "1d37a70e4c75462eaf59960b708d4841",
            "a0f7808f490e414892c3a8b63c09f796",
            "d959c329f093412b855c5e1d86a60f9d",
            "edae6e19e3a343408cc27698eb3f1318",
            "66ec758e39b84a378ca06d738c23eac8",
            "2292e90d08dc4f0087380657ca011a33"
          ]
        },
        "outputId": "cd6a74db-45d9-4de6-a82a-e2d1f644ce4c"
      },
      "outputs": [
        {
          "output_type": "display_data",
          "data": {
            "text/plain": [
              "Downloading (…)olve/main/vocab.json:   0%|          | 0.00/899k [00:00<?, ?B/s]"
            ],
            "application/vnd.jupyter.widget-view+json": {
              "version_major": 2,
              "version_minor": 0,
              "model_id": "04ca015b3e7247718e72d04b4449c5ac"
            }
          },
          "metadata": {}
        },
        {
          "output_type": "display_data",
          "data": {
            "text/plain": [
              "Downloading (…)olve/main/merges.txt:   0%|          | 0.00/456k [00:00<?, ?B/s]"
            ],
            "application/vnd.jupyter.widget-view+json": {
              "version_major": 2,
              "version_minor": 0,
              "model_id": "2d69febcdb2b4421a0960ade0aec974a"
            }
          },
          "metadata": {}
        },
        {
          "output_type": "display_data",
          "data": {
            "text/plain": [
              "Downloading (…)lve/main/config.json:   0%|          | 0.00/481 [00:00<?, ?B/s]"
            ],
            "application/vnd.jupyter.widget-view+json": {
              "version_major": 2,
              "version_minor": 0,
              "model_id": "d3aeabb080c0424298625e038c33bfa2"
            }
          },
          "metadata": {}
        }
      ],
      "source": [
        "class Config:\n",
        "    def __init__(self):\n",
        "        super(Config, self).__init__()\n",
        "\n",
        "        self.SEED = 42 # random seed = 42; for reproducibility\n",
        "        self.MODEL_PATH = 'roberta-base' # the pretrained model\n",
        "        self.NUM_CLASSES = 4 # number of classes in our dataset\n",
        "\n",
        "        self.LABELS = {'Household':0,\n",
        "          'Books':1,\n",
        "          'Electronics':2,\n",
        "          'Clothing & Accessories':3\n",
        "          }\n",
        "\n",
        "        # data\n",
        "        self.TOKENIZER = RobertaTokenizer.from_pretrained(self.MODEL_PATH) # using tokenizer from pretrained model\n",
        "        self.MAX_LENGTH = 256 # the max length (already explained)\n",
        "        self.BATCH_SIZE = 16 # number of batch size, where the data will be inputted into batch with this number of data in each batch\n",
        "        self.TEST_SPLIT = 0.20 # for train-test splitting\n",
        "        self.VAL_SPLIT = 0.50 # for test-validation splitting\n",
        "\n",
        "        # model\n",
        "        self.DEVICE = torch.device('cuda' if torch.cuda.is_available() else 'cpu') # use cuda if available\n",
        "        self.LR = 2e-5 # learning rate = 2.10^-5 = 0.00002\n",
        "        self.OPTIMIZER = 'AdamW' # optimizer = AdamW\n",
        "        self.CRITERION = 'CrossEntropyLoss' # criterion = CrossEntropyLoss\n",
        "        self.EPOCHS = 3 # number of epoch(s) for training process\n",
        "\n",
        "config = Config()\n",
        "\n"
      ]
    },
    {
      "cell_type": "markdown",
      "source": [
        "In this model, we will be using the tokenizer from pretrained model. We use the pretrained model roberta-base.\n",
        "\n",
        "Hence, we will do fine-tuning from the pretrained model where the model will be trained on specific task. Before that, we use 8:1:1 train-test-validation split from the full dataset.\n",
        "\n",
        "We use AdamW (Adam with Weight Decay) optimizer. This optimizer applies weight decay to the parameters during the parameter update step. This helps prevent overfitting and improves the generalization of the model.\n",
        "\n",
        "We also use CrossEntropyLoss (Cross-Entropy Loss) as our loss function, where this function is suitable for multiclass problem.\n",
        "\n",
        "The labels will be formatted into numbers, where 'Household':0, 'Books':1, 'Electronics':2, 'Clothing & Accessories':3.\n",
        "\n",
        "There are hyperparameter we use for the modelling, like learning rate = 2.10^-5. we also use 3 epochs."
      ],
      "metadata": {
        "id": "3u-I3U6iBzMp"
      }
    },
    {
      "cell_type": "markdown",
      "source": [
        "Then, we create Dataset class to create a PyTorch dataset object that can be used for training, validation, or testing process later."
      ],
      "metadata": {
        "id": "1EO2AW9ND0g5"
      }
    },
    {
      "cell_type": "code",
      "execution_count": null,
      "metadata": {
        "id": "-dbeE0L26wLE"
      },
      "outputs": [],
      "source": [
        "class Dataset(torch.utils.data.Dataset):\n",
        "    def __init__(self, data): # intializations; takes data arguments\n",
        "        self.labels = [config.LABELS[label] for label in data['label']]\n",
        "        self.texts = data['clean_text'].values\n",
        "        self.tokenizer = config.TOKENIZER\n",
        "        self.max_length = config.MAX_LENGTH\n",
        "\n",
        "    def __len__(self):\n",
        "        return len(self.labels) # return length of labels\n",
        "\n",
        "    def __getitem__(self, idx):\n",
        "        # fetch text and label corresponding to the index\n",
        "        text = self.texts[idx]\n",
        "        label = self.labels[idx]\n",
        "\n",
        "        # encode the text using tokenizer.encode_plus method\n",
        "        encoding = self.tokenizer.encode_plus(\n",
        "            text,\n",
        "            max_length=self.max_length, # maximum of the sequence length\n",
        "            padding='max_length', # pads the input shorter than the max_length into the max_length\n",
        "            truncation=True, # perform truncation to text with length longer than max_length\n",
        "            return_tensors='pt'\n",
        "        )\n",
        "\n",
        "        # returned as tensor\n",
        "        return {\n",
        "            'input_ids': encoding['input_ids'].squeeze(),\n",
        "            'attention_mask': encoding['attention_mask'].squeeze(),\n",
        "            'labels': torch.tensor(label)\n",
        "        }"
      ]
    },
    {
      "cell_type": "markdown",
      "source": [
        "Then, we start doing the splitting process. The ratio is 8:1:1 for train-test-validation set. The dataset will be splitted by paying attention to the 'label' classes, so there wont be imbalanced split."
      ],
      "metadata": {
        "id": "afbFWh_xFM5E"
      }
    },
    {
      "cell_type": "code",
      "execution_count": null,
      "metadata": {
        "colab": {
          "base_uri": "https://localhost:8080/"
        },
        "id": "ksbw6sIPWXzd",
        "outputId": "9eaed56c-2b86-4da9-b48e-9f3aabee0c1a"
      },
      "outputs": [
        {
          "output_type": "stream",
          "name": "stdout",
          "text": [
            "10084 1261 1261\n"
          ]
        }
      ],
      "source": [
        "# train-test-val split\n",
        "# split the dataset into train, test, and validation set. we are using 8:1:1 train-test-val ratio.\n",
        "from sklearn.model_selection import train_test_split\n",
        "\n",
        "np.random.seed(config.SEED)\n",
        "# Splitting into train and remaining data (validation + test)\n",
        "df_train, df_remaining = train_test_split(df1, test_size=config.TEST_SPLIT, stratify=df1['label'], random_state=42)\n",
        "\n",
        "# Splitting the remaining data into validation and test\n",
        "df_val, df_test = train_test_split(df_remaining, test_size=config.VAL_SPLIT, stratify=df_remaining['label'], random_state=42)\n",
        "\n",
        "print(len(df_train), len(df_val), len(df_test))"
      ]
    },
    {
      "cell_type": "markdown",
      "source": [
        "Then, we perform the pytorch object creation using the Dataset class, and sent it to dataloader."
      ],
      "metadata": {
        "id": "iuXbvTZiFVcG"
      }
    },
    {
      "cell_type": "code",
      "execution_count": null,
      "metadata": {
        "colab": {
          "base_uri": "https://localhost:8080/"
        },
        "id": "nIxMRRUlYT8P",
        "outputId": "8711fc97-3419-4d7f-a79c-ccea4b8ebccb"
      },
      "outputs": [
        {
          "output_type": "stream",
          "name": "stdout",
          "text": [
            "input_ids shape: torch.Size([16, 256])\n",
            "attention_mask shape: torch.Size([16, 256])\n",
            "labels shape: torch.Size([16])\n"
          ]
        }
      ],
      "source": [
        "train_data = Dataset(df_train)\n",
        "val_data = Dataset(df_val)\n",
        "\n",
        "train_dataloader = DataLoader(train_data, batch_size=config.BATCH_SIZE)\n",
        "val_dataloader = DataLoader(val_data, batch_size=config.BATCH_SIZE)\n",
        "\n",
        "b = next(iter(train_dataloader))\n",
        "for k, v in b.items():\n",
        "    print(f'{k} shape: {v.shape}')"
      ]
    },
    {
      "cell_type": "markdown",
      "metadata": {
        "id": "FAl41lZ358fi"
      },
      "source": [
        "## **Building Model**"
      ]
    },
    {
      "cell_type": "markdown",
      "source": [
        "Now, we will start the modelling process by defining the Model from pre-trained model."
      ],
      "metadata": {
        "id": "emNGYTrYGMpo"
      }
    },
    {
      "cell_type": "code",
      "execution_count": null,
      "metadata": {
        "id": "U9xb6tJe57zL"
      },
      "outputs": [],
      "source": [
        "from torch import nn\n",
        "from transformers import RobertaModel\n",
        "\n",
        "class RoBERTaClassifier(nn.Module):\n",
        "    def __init__(self, dropout=0.3):\n",
        "        # initialize the model\n",
        "        super(RoBERTaClassifier, self).__init__()\n",
        "\n",
        "        self.roberta = RobertaModel.from_pretrained(config.MODEL_PATH) # loads pretrained model\n",
        "        self.dropout = nn.Dropout(dropout) # do droput regularization with dropout = 0.3 (prevent overfitting)\n",
        "        self.linear = nn.Linear(768, config.NUM_CLASSES) # maps the output to the number of classes\n",
        "        self.relu = nn.ReLU() # do ReLU activation function (self.relu) to introduce non-linearity.\n",
        "\n",
        "    def forward(self, input_ids, attention_mask):\n",
        "        outputs = self.roberta(input_ids=input_ids, attention_mask=attention_mask)\n",
        "        o2 = outputs[1]\n",
        "        dropout_output = self.dropout(o2)\n",
        "        linear_output = self.linear(dropout_output)\n",
        "        final_output = self.relu(linear_output)\n",
        "\n",
        "        return final_output"
      ]
    },
    {
      "cell_type": "code",
      "execution_count": null,
      "metadata": {
        "colab": {
          "base_uri": "https://localhost:8080/"
        },
        "id": "xxpdaeYjbZev",
        "outputId": "61df91d2-91b8-4db9-b171-3df9a63f9766"
      },
      "outputs": [
        {
          "output_type": "execute_result",
          "data": {
            "text/plain": [
              "device(type='cuda')"
            ]
          },
          "metadata": {},
          "execution_count": 25
        }
      ],
      "source": [
        "# specify the device using cuda\n",
        "device = config.DEVICE\n",
        "device"
      ]
    },
    {
      "cell_type": "markdown",
      "source": [
        "Then, we define the training and validation process here below:"
      ],
      "metadata": {
        "id": "giJPCFViHEn9"
      }
    },
    {
      "cell_type": "code",
      "execution_count": null,
      "metadata": {
        "id": "1tGlOKGGbaU4"
      },
      "outputs": [],
      "source": [
        "def train(model, train_dataloader, val_dataloader, learning_rate, epochs):\n",
        "    torch.manual_seed(config.SEED) # set seed\n",
        "    use_cuda = torch.cuda.is_available() # make sure cude is available to use\n",
        "    device = torch.device(\"cuda\" if use_cuda else \"cpu\")\n",
        "\n",
        "    # define loss function and optimizer (along with specified learning rate)\n",
        "    criterion = nn.CrossEntropyLoss()\n",
        "    optimizer = AdamW(model.parameters(), lr=learning_rate)\n",
        "\n",
        "    # move the model and the loss function to the appropriate device\n",
        "    model.to(device)\n",
        "    criterion.to(device)\n",
        "\n",
        "    # initialize the best validation loss to a very high value\n",
        "    best_val_loss = float('inf')\n",
        "\n",
        "    # start the training loop for the specified number of epochs\n",
        "    for epoch_num in range(epochs):\n",
        "        # initialize variables to keep track of total accuracy and loss during training\n",
        "        total_acc_train = 0\n",
        "        total_loss_train = 0\n",
        "\n",
        "        # set the model to train mode\n",
        "        model.train()\n",
        "        for batch in tqdm(train_dataloader):\n",
        "            # unpack the batch contents and push them to the device (cuda or cpu).\n",
        "            input_ids = batch['input_ids'].to(device)\n",
        "            attention_mask = batch['attention_mask'].to(device)\n",
        "            labels = batch['labels'].to(device)\n",
        "\n",
        "            # zero-ing the gradients\n",
        "            optimizer.zero_grad()\n",
        "            # forward pass\n",
        "            outputs = model(input_ids, attention_mask)\n",
        "\n",
        "            # compute loss\n",
        "            loss = criterion(outputs, labels)\n",
        "            # backward pass and optimization step\n",
        "            loss.backward()\n",
        "            optimizer.step()\n",
        "\n",
        "            # update the total loss and current accuracy for the current batch\n",
        "            total_loss_train += loss.item()\n",
        "            total_acc_train += (outputs.argmax(dim=1) == labels).sum().item()\n",
        "\n",
        "        # initialize variables to keep track of total accuracy and loss during validation\n",
        "        total_acc_val = 0\n",
        "        total_loss_val = 0\n",
        "\n",
        "        # Set the model to evaluation mode\n",
        "        model.eval()\n",
        "        # disable gradient calculation for validation\n",
        "        with torch.no_grad():\n",
        "            # iterate over validation data\n",
        "            for batch in val_dataloader:\n",
        "                # unpack the batch contents and push them to the device (cuda or cpu)\n",
        "                input_ids = batch['input_ids'].to(device)\n",
        "                attention_mask = batch['attention_mask'].to(device)\n",
        "                labels = batch['labels'].to(device)\n",
        "\n",
        "                # forward pass\n",
        "                outputs = model(input_ids, attention_mask)\n",
        "\n",
        "                # compute loss between outputs labels\n",
        "                loss = criterion(outputs, labels)\n",
        "\n",
        "                # update the total loss and accuracy for the current batch\n",
        "                total_loss_val += loss.item()\n",
        "                total_acc_val += (outputs.argmax(dim=1) == labels).sum().item()\n",
        "\n",
        "        # compute the average training and validation loss and accuracy\n",
        "        train_loss_avg = total_loss_train / len(train_dataloader.dataset)\n",
        "        train_acc_avg = total_acc_train / len(train_dataloader.dataset)\n",
        "        val_loss_avg = total_loss_val / len(val_dataloader.dataset)\n",
        "        val_acc_avg = total_acc_val / len(val_dataloader.dataset)\n",
        "\n",
        "        # print the average losses and accuracies for the epoch\n",
        "        print(f'Epochs: {epoch_num + 1} | Train Loss: {train_loss_avg:.6f} | Train Accuracy: {train_acc_avg:.6f} '\n",
        "              f'| Val Loss: {val_loss_avg:.6f} | Val Accuracy: {val_acc_avg:.6f}')\n",
        "\n",
        "        # save the model if the current validation loss is better than the previous best\n",
        "        if val_loss_avg < best_val_loss:\n",
        "            best_val_loss = val_loss_avg\n",
        "            torch.save(model.state_dict(), 'best_model.pt')\n",
        "            print(f\"Saved model with val loss: {best_val_loss:.3f} as best_model.pt\")"
      ]
    },
    {
      "cell_type": "code",
      "execution_count": null,
      "metadata": {
        "colab": {
          "base_uri": "https://localhost:8080/",
          "height": 160,
          "referenced_widgets": [
            "ab60ae6669fe4a5c956257c4452ed892",
            "65375e83a9ce4ba0ad56faed0fd252e0",
            "52c46065e35d4a90b16290b511ecc61c",
            "04519b070dac49cfb3c439fc0e211cf1",
            "4a094ae7cc904eaabdac81ddb64930a3",
            "31c1e7a3f6c848b198603a23f4eaa407",
            "b6cfd7e4978b421295f9fc3f1e92374b",
            "62f7769ce4d344db88f70c88aa655ac3",
            "67e2e4c2ec824b15a308d6c9985c7120",
            "b911060e5e6648cab26efabadbd08ae1",
            "bb8e140f73944a0a8438ab4d940c4484"
          ]
        },
        "id": "5t6tOayZp-4X",
        "outputId": "c7d7ec05-56df-4e49-b137-c1bf31e555fd"
      },
      "outputs": [
        {
          "output_type": "display_data",
          "data": {
            "text/plain": [
              "Downloading model.safetensors:   0%|          | 0.00/499M [00:00<?, ?B/s]"
            ],
            "application/vnd.jupyter.widget-view+json": {
              "version_major": 2,
              "version_minor": 0,
              "model_id": "ab60ae6669fe4a5c956257c4452ed892"
            }
          },
          "metadata": {}
        },
        {
          "output_type": "stream",
          "name": "stderr",
          "text": [
            "Some weights of the model checkpoint at roberta-base were not used when initializing RobertaModel: ['lm_head.dense.bias', 'lm_head.layer_norm.bias', 'lm_head.bias', 'lm_head.dense.weight', 'lm_head.layer_norm.weight']\n",
            "- This IS expected if you are initializing RobertaModel from the checkpoint of a model trained on another task or with another architecture (e.g. initializing a BertForSequenceClassification model from a BertForPreTraining model).\n",
            "- This IS NOT expected if you are initializing RobertaModel from the checkpoint of a model that you expect to be exactly identical (initializing a BertForSequenceClassification model from a BertForSequenceClassification model).\n",
            "Some weights of RobertaModel were not initialized from the model checkpoint at roberta-base and are newly initialized: ['roberta.pooler.dense.weight', 'roberta.pooler.dense.bias']\n",
            "You should probably TRAIN this model on a down-stream task to be able to use it for predictions and inference.\n"
          ]
        }
      ],
      "source": [
        "# initialize the model\n",
        "model = RoBERTaClassifier()\n",
        "model.to(device);"
      ]
    },
    {
      "cell_type": "code",
      "execution_count": null,
      "metadata": {
        "colab": {
          "base_uri": "https://localhost:8080/"
        },
        "id": "jMBNMslxqvkr",
        "outputId": "9d535976-72ed-4e74-a202-8338719556f2"
      },
      "outputs": [
        {
          "output_type": "stream",
          "name": "stderr",
          "text": [
            "100%|██████████| 631/631 [07:31<00:00,  1.40it/s]\n"
          ]
        },
        {
          "output_type": "stream",
          "name": "stdout",
          "text": [
            "Epochs: 1 | Train Loss: 0.020918 | Train Accuracy: 0.896767 | Val Loss: 0.011790 | Val Accuracy: 0.955591\n",
            "Saved model with val loss: 0.012 as best_model.pt\n"
          ]
        },
        {
          "output_type": "stream",
          "name": "stderr",
          "text": [
            "100%|██████████| 631/631 [07:27<00:00,  1.41it/s]\n"
          ]
        },
        {
          "output_type": "stream",
          "name": "stdout",
          "text": [
            "Epochs: 2 | Train Loss: 0.010230 | Train Accuracy: 0.956962 | Val Loss: 0.010719 | Val Accuracy: 0.959556\n",
            "Saved model with val loss: 0.011 as best_model.pt\n"
          ]
        },
        {
          "output_type": "stream",
          "name": "stderr",
          "text": [
            "100%|██████████| 631/631 [07:27<00:00,  1.41it/s]\n"
          ]
        },
        {
          "output_type": "stream",
          "name": "stdout",
          "text": [
            "Epochs: 3 | Train Loss: 0.007589 | Train Accuracy: 0.968862 | Val Loss: 0.009960 | Val Accuracy: 0.965107\n",
            "Saved model with val loss: 0.010 as best_model.pt\n"
          ]
        }
      ],
      "source": [
        "# do the training and validation process\n",
        "train(model, train_dataloader, val_dataloader, config.LR, config.EPOCHS)"
      ]
    },
    {
      "cell_type": "markdown",
      "source": [
        "From this result, we get that the train and validation loss is considered already small on epoch 1 (meaning it's a great result!). Both training and validation loss also keeps lowering over 3 epochs, resulting in getting higher train and validation accuracy over epochs. We are getting 96.88% train accuracy and 96.51% validation accuracy which is very great result!\n",
        "\n",
        "Next, we will do the hyperparameter tuning to check other hyperparameters that might be resulting better results than our current model result. But, please keep in mind that comparing training and validation loss alone is not sufficient to evaluate the model's performance -- where we will see at the evaluation."
      ],
      "metadata": {
        "id": "DlMuS7SAJvHK"
      }
    },
    {
      "cell_type": "markdown",
      "metadata": {
        "id": "SyWwoLgb38Q3"
      },
      "source": [
        "## Hyperparameter Tuning"
      ]
    },
    {
      "cell_type": "markdown",
      "source": [
        "### Build model for tuning\n",
        "\n",
        "For tuning process, we will be using `optuna` as our hyperparameter optimization framework. The hyperparameter we will tune are:\n",
        "- dropout: 0.3 or 0.5\n",
        "- learning rate: 1e-6 until 1e-2\n",
        "- optimizer: Adam, AdamW, RMSProp\n",
        "\n",
        "to save time and computation resources, we will only do 3 trials for this tuning process and each of them will be tuned for 1 epoch (I've tried using 3 epochs for each trial, but got OutOfMemory Error)."
      ],
      "metadata": {
        "id": "-f4-7nz0vLK5"
      }
    },
    {
      "cell_type": "code",
      "execution_count": null,
      "metadata": {
        "colab": {
          "base_uri": "https://localhost:8080/"
        },
        "id": "5iEPzC3vI18V",
        "outputId": "b7b216dd-3559-4f75-81fd-4d4e317b7419"
      },
      "outputs": [
        {
          "output_type": "stream",
          "name": "stdout",
          "text": [
            "Collecting optuna\n",
            "  Downloading optuna-3.2.0-py3-none-any.whl (390 kB)\n",
            "\u001b[2K     \u001b[90m━━━━━━━━━━━━━━━━━━━━━━━━━━━━━━━━━━━━━━\u001b[0m \u001b[32m390.6/390.6 kB\u001b[0m \u001b[31m12.7 MB/s\u001b[0m eta \u001b[36m0:00:00\u001b[0m\n",
            "\u001b[?25hCollecting alembic>=1.5.0 (from optuna)\n",
            "  Downloading alembic-1.11.1-py3-none-any.whl (224 kB)\n",
            "\u001b[2K     \u001b[90m━━━━━━━━━━━━━━━━━━━━━━━━━━━━━━━━━━━━━━\u001b[0m \u001b[32m224.5/224.5 kB\u001b[0m \u001b[31m23.2 MB/s\u001b[0m eta \u001b[36m0:00:00\u001b[0m\n",
            "\u001b[?25hCollecting cmaes>=0.9.1 (from optuna)\n",
            "  Downloading cmaes-0.9.1-py3-none-any.whl (21 kB)\n",
            "Collecting colorlog (from optuna)\n",
            "  Downloading colorlog-6.7.0-py2.py3-none-any.whl (11 kB)\n",
            "Requirement already satisfied: numpy in /usr/local/lib/python3.10/dist-packages (from optuna) (1.22.4)\n",
            "Requirement already satisfied: packaging>=20.0 in /usr/local/lib/python3.10/dist-packages (from optuna) (23.1)\n",
            "Requirement already satisfied: sqlalchemy>=1.3.0 in /usr/local/lib/python3.10/dist-packages (from optuna) (2.0.16)\n",
            "Requirement already satisfied: tqdm in /usr/local/lib/python3.10/dist-packages (from optuna) (4.65.0)\n",
            "Requirement already satisfied: PyYAML in /usr/local/lib/python3.10/dist-packages (from optuna) (6.0)\n",
            "Collecting Mako (from alembic>=1.5.0->optuna)\n",
            "  Downloading Mako-1.2.4-py3-none-any.whl (78 kB)\n",
            "\u001b[2K     \u001b[90m━━━━━━━━━━━━━━━━━━━━━━━━━━━━━━━━━━━━━━━━\u001b[0m \u001b[32m78.7/78.7 kB\u001b[0m \u001b[31m10.0 MB/s\u001b[0m eta \u001b[36m0:00:00\u001b[0m\n",
            "\u001b[?25hRequirement already satisfied: typing-extensions>=4 in /usr/local/lib/python3.10/dist-packages (from alembic>=1.5.0->optuna) (4.6.3)\n",
            "Requirement already satisfied: greenlet!=0.4.17 in /usr/local/lib/python3.10/dist-packages (from sqlalchemy>=1.3.0->optuna) (2.0.2)\n",
            "Requirement already satisfied: MarkupSafe>=0.9.2 in /usr/local/lib/python3.10/dist-packages (from Mako->alembic>=1.5.0->optuna) (2.1.3)\n",
            "Installing collected packages: Mako, colorlog, cmaes, alembic, optuna\n",
            "Successfully installed Mako-1.2.4 alembic-1.11.1 cmaes-0.9.1 colorlog-6.7.0 optuna-3.2.0\n"
          ]
        }
      ],
      "source": [
        "pip install optuna"
      ]
    },
    {
      "cell_type": "code",
      "execution_count": null,
      "metadata": {
        "id": "WgS4qKScp45O"
      },
      "outputs": [],
      "source": [
        "import optuna\n",
        "from torch.optim import Adam, RMSprop"
      ]
    },
    {
      "cell_type": "code",
      "execution_count": null,
      "metadata": {
        "id": "hgBJSN9wKUhX"
      },
      "outputs": [],
      "source": [
        "# re-define the model because we have 2 dropout options ([0.3, 0.5])\n",
        "class RoBERTaClassifier_tune(nn.Module):\n",
        "    def __init__(self, dropout):\n",
        "        super(RoBERTaClassifier_tune, self).__init__()\n",
        "\n",
        "        self.roberta = RobertaModel.from_pretrained(config.MODEL_PATH)\n",
        "        self.dropout = nn.Dropout(dropout)\n",
        "        self.linear = nn.Linear(768, config.NUM_CLASSES)\n",
        "        self.relu = nn.ReLU()\n",
        "\n",
        "    def forward(self, input_ids, attention_mask):\n",
        "        outputs = self.roberta(input_ids=input_ids, attention_mask=attention_mask)\n",
        "        o2 = outputs[1]\n",
        "        dropout_output = self.dropout(o2)\n",
        "        linear_output = self.linear(dropout_output)\n",
        "        final_output = self.relu(linear_output)\n",
        "\n",
        "        return final_output"
      ]
    },
    {
      "cell_type": "code",
      "execution_count": null,
      "metadata": {
        "id": "mwhN7NkP3ODc"
      },
      "outputs": [],
      "source": [
        "# define objective function for Optuna optimization\n",
        "def objective(trial):\n",
        "    # random seeding\n",
        "    torch.manual_seed(config.SEED)\n",
        "\n",
        "    # check gpu availability\n",
        "    use_cuda = torch.cuda.is_available()\n",
        "    device = torch.device(\"cuda\" if use_cuda else \"cpu\")\n",
        "\n",
        "    # sampling the dropout rate, learning rate, and optimizer name using Optuna suggestions\n",
        "    dropout = trial.suggest_categorical('dropout', [0.3, 0.5])\n",
        "    learning_rate = trial.suggest_loguniform('learning_rate', 1e-6, 1e-2)\n",
        "    optimizer_name = trial.suggest_categorical('optimizer', ['adam', 'adamW', 'rmsprop'])\n",
        "\n",
        "    # create a new instance\n",
        "    model = RoBERTaClassifier_tune(dropout=dropout)\n",
        "\n",
        "    # define loss function\n",
        "    criterion = nn.CrossEntropyLoss()\n",
        "\n",
        "    # select optimizer based on sampled optimizer name\n",
        "    if optimizer_name == 'adam':\n",
        "        optimizer = Adam(model.parameters(), lr=learning_rate)\n",
        "    elif optimizer_name == 'adamW':\n",
        "        optimizer = AdamW(model.parameters(), lr=learning_rate)\n",
        "    elif optimizer_name == 'rmsprop':\n",
        "        optimizer = RMSprop(model.parameters(), lr=learning_rate)\n",
        "\n",
        "    # move model and loss function to the appropriate device\n",
        "    model.to(device)\n",
        "    criterion.to(device)\n",
        "\n",
        "    # initialize best validation loss to a very high value\n",
        "    best_val_loss = float('inf')\n",
        "\n",
        "    # start the training loop for a fixed number of epochs (1 in this case)\n",
        "    for epoch_num in range(1):\n",
        "        # initialize variables to keep track of total accuracy and loss during training\n",
        "        total_acc_train = 0\n",
        "        total_loss_train = 0\n",
        "\n",
        "        # set the model to train mode\n",
        "        model.train()\n",
        "\n",
        "        # iterate over the training data\n",
        "        for batch in tqdm(train_dataloader):\n",
        "            # move the input IDs, attention mask, and labels to the device\n",
        "            input_ids = batch['input_ids'].to(device)\n",
        "            attention_mask = batch['attention_mask'].to(device)\n",
        "            labels = batch['labels'].to(device)\n",
        "\n",
        "            # zero-ing the gradients\n",
        "            optimizer.zero_grad()\n",
        "\n",
        "            # forward pass\n",
        "            outputs = model(input_ids, attention_mask)\n",
        "\n",
        "            # compute loss between outputs and labels\n",
        "            loss = criterion(outputs, labels)\n",
        "\n",
        "            # backward pass and optimization step\n",
        "            loss.backward()\n",
        "            optimizer.step()\n",
        "\n",
        "            # update the total loss and accuracy for the current batch\n",
        "            total_loss_train += loss.item()\n",
        "            total_acc_train += (outputs.argmax(dim=1) == labels).sum().item()\n",
        "\n",
        "        # initialize variables to keep track of total accuracy and loss during validation\n",
        "        total_acc_val = 0\n",
        "        total_loss_val = 0\n",
        "\n",
        "        # set the model to evaluation mode\n",
        "        model.eval()\n",
        "\n",
        "        # disable gradient calculation for validation\n",
        "        with torch.no_grad():\n",
        "            # iterate over the validation data\n",
        "            for batch in val_dataloader:\n",
        "                # move the input IDs, attention mask, and labels to the device\n",
        "                input_ids = batch['input_ids'].to(device)\n",
        "                attention_mask = batch['attention_mask'].to(device)\n",
        "                labels = batch['labels'].to(device)\n",
        "\n",
        "                # forward pass\n",
        "                outputs = model(input_ids, attention_mask)\n",
        "\n",
        "                # compute loss between outputs and labels\n",
        "                loss = criterion(outputs, labels)\n",
        "\n",
        "                # update total loss and accuracy for the current batch\n",
        "                total_loss_val += loss.item()\n",
        "                total_acc_val += (outputs.argmax(dim=1) == labels).sum().item()\n",
        "\n",
        "        # compute the average training and validation loss and accuracy\n",
        "        train_loss_avg = total_loss_train / len(train_dataloader.dataset)\n",
        "        train_acc_avg = total_acc_train / len(train_dataloader.dataset)\n",
        "        val_loss_avg = total_loss_val / len(val_dataloader.dataset)\n",
        "        val_acc_avg = total_acc_val / len(val_dataloader.dataset)\n",
        "\n",
        "        # print the average losses and accuracies for the epoch\n",
        "        print(f'Epochs: {epoch_num + 1} | Train Loss: {train_loss_avg:.6f} | Train Accuracy: {train_acc_avg:.6f} '\n",
        "              f'| Val Loss: {val_loss_avg:.6f} | Val Accuracy: {val_acc_avg:.6f}')\n",
        "\n",
        "    return val_acc_avg  # Return the validation accuracy as the objective value"
      ]
    },
    {
      "cell_type": "markdown",
      "source": [
        "### Model Tuning"
      ],
      "metadata": {
        "id": "jW_BW84hv3bY"
      }
    },
    {
      "cell_type": "code",
      "execution_count": null,
      "metadata": {
        "colab": {
          "base_uri": "https://localhost:8080/"
        },
        "id": "4wBgDtdHMSOy",
        "outputId": "9ef19917-5346-48ba-974b-20a29e60fd69"
      },
      "outputs": [
        {
          "output_type": "stream",
          "name": "stderr",
          "text": [
            "[I 2023-07-08 15:00:42,318] A new study created in memory with name: no-name-445e6dbf-995a-40a5-90c4-33a80dfbee75\n",
            "<ipython-input-32-334d4885a252>:7: FutureWarning: suggest_loguniform has been deprecated in v3.0.0. This feature will be removed in v6.0.0. See https://github.com/optuna/optuna/releases/tag/v3.0.0. Use suggest_float(..., log=True) instead.\n",
            "  learning_rate = trial.suggest_loguniform('learning_rate', 1e-6, 1e-2)\n",
            "Some weights of the model checkpoint at roberta-base were not used when initializing RobertaModel: ['lm_head.dense.bias', 'lm_head.layer_norm.bias', 'lm_head.bias', 'lm_head.dense.weight', 'lm_head.layer_norm.weight']\n",
            "- This IS expected if you are initializing RobertaModel from the checkpoint of a model trained on another task or with another architecture (e.g. initializing a BertForSequenceClassification model from a BertForPreTraining model).\n",
            "- This IS NOT expected if you are initializing RobertaModel from the checkpoint of a model that you expect to be exactly identical (initializing a BertForSequenceClassification model from a BertForSequenceClassification model).\n",
            "Some weights of RobertaModel were not initialized from the model checkpoint at roberta-base and are newly initialized: ['roberta.pooler.dense.weight', 'roberta.pooler.dense.bias']\n",
            "You should probably TRAIN this model on a down-stream task to be able to use it for predictions and inference.\n",
            "100%|██████████| 631/631 [06:55<00:00,  1.52it/s]\n",
            "[I 2023-07-08 15:07:56,604] Trial 0 finished with value: 0.38144329896907214 and parameters: {'dropout': 0.3, 'learning_rate': 0.0038839563432664145, 'optimizer': 'rmsprop'}. Best is trial 0 with value: 0.38144329896907214.\n"
          ]
        },
        {
          "output_type": "stream",
          "name": "stdout",
          "text": [
            "Epochs: 1 | Train Loss: 0.087925 | Train Accuracy: 0.381396 | Val Loss: 0.086850 | Val Accuracy: 0.381443\n"
          ]
        },
        {
          "output_type": "stream",
          "name": "stderr",
          "text": [
            "Some weights of the model checkpoint at roberta-base were not used when initializing RobertaModel: ['lm_head.dense.bias', 'lm_head.layer_norm.bias', 'lm_head.bias', 'lm_head.dense.weight', 'lm_head.layer_norm.weight']\n",
            "- This IS expected if you are initializing RobertaModel from the checkpoint of a model trained on another task or with another architecture (e.g. initializing a BertForSequenceClassification model from a BertForPreTraining model).\n",
            "- This IS NOT expected if you are initializing RobertaModel from the checkpoint of a model that you expect to be exactly identical (initializing a BertForSequenceClassification model from a BertForSequenceClassification model).\n",
            "Some weights of RobertaModel were not initialized from the model checkpoint at roberta-base and are newly initialized: ['roberta.pooler.dense.weight', 'roberta.pooler.dense.bias']\n",
            "You should probably TRAIN this model on a down-stream task to be able to use it for predictions and inference.\n",
            "100%|██████████| 631/631 [07:08<00:00,  1.47it/s]\n",
            "[I 2023-07-08 15:15:23,848] Trial 1 finished with value: 0.38144329896907214 and parameters: {'dropout': 0.5, 'learning_rate': 0.00018780091755504156, 'optimizer': 'adamW'}. Best is trial 0 with value: 0.38144329896907214.\n"
          ]
        },
        {
          "output_type": "stream",
          "name": "stdout",
          "text": [
            "Epochs: 1 | Train Loss: 0.086717 | Train Accuracy: 0.381198 | Val Loss: 0.086850 | Val Accuracy: 0.381443\n"
          ]
        },
        {
          "output_type": "stream",
          "name": "stderr",
          "text": [
            "Some weights of the model checkpoint at roberta-base were not used when initializing RobertaModel: ['lm_head.dense.bias', 'lm_head.layer_norm.bias', 'lm_head.bias', 'lm_head.dense.weight', 'lm_head.layer_norm.weight']\n",
            "- This IS expected if you are initializing RobertaModel from the checkpoint of a model trained on another task or with another architecture (e.g. initializing a BertForSequenceClassification model from a BertForPreTraining model).\n",
            "- This IS NOT expected if you are initializing RobertaModel from the checkpoint of a model that you expect to be exactly identical (initializing a BertForSequenceClassification model from a BertForSequenceClassification model).\n",
            "Some weights of RobertaModel were not initialized from the model checkpoint at roberta-base and are newly initialized: ['roberta.pooler.dense.weight', 'roberta.pooler.dense.bias']\n",
            "You should probably TRAIN this model on a down-stream task to be able to use it for predictions and inference.\n",
            "100%|██████████| 631/631 [07:08<00:00,  1.47it/s]\n",
            "[I 2023-07-08 15:22:50,918] Trial 2 finished with value: 0.38144329896907214 and parameters: {'dropout': 0.5, 'learning_rate': 4.989479747449161e-05, 'optimizer': 'rmsprop'}. Best is trial 0 with value: 0.38144329896907214.\n"
          ]
        },
        {
          "output_type": "stream",
          "name": "stdout",
          "text": [
            "Epochs: 1 | Train Loss: 0.084995 | Train Accuracy: 0.381694 | Val Loss: 0.086850 | Val Accuracy: 0.381443\n"
          ]
        }
      ],
      "source": [
        "# do the hyperparamter tuning for 3 trials\n",
        "study = optuna.create_study(direction='maximize')\n",
        "study.optimize(objective, n_trials=3)\n",
        "\n",
        "# get the best trial & best parameters out of the study\n",
        "best_trial = study.best_trial\n",
        "best_params = best_trial.params"
      ]
    },
    {
      "cell_type": "markdown",
      "source": [
        "Now, let's see the best hyperparameters from the tuning process, and compare the results from tuning and our base model results."
      ],
      "metadata": {
        "id": "w0vRu0P8M6jl"
      }
    },
    {
      "cell_type": "code",
      "source": [
        "print('Best Trial:')\n",
        "print('\\tValidation accuracy: ', best_trial.value)\n",
        "print('\\tParams: ')\n",
        "for key, value in best_params.items():\n",
        "    print(\"\\t   {}: {}\".format(key, value))"
      ],
      "metadata": {
        "id": "VxN6mQZwq3od",
        "colab": {
          "base_uri": "https://localhost:8080/"
        },
        "outputId": "2e8dae33-2f7e-4ebc-f09b-2b124a9994c0"
      },
      "execution_count": null,
      "outputs": [
        {
          "output_type": "stream",
          "name": "stdout",
          "text": [
            "Best Trial:\n",
            "\tValidation accuracy:  0.38144329896907214\n",
            "\tParams: \n",
            "\t   dropout: 0.3\n",
            "\t   learning_rate: 0.0038839563432664145\n",
            "\t   optimizer: rmsprop\n"
          ]
        }
      ]
    },
    {
      "cell_type": "markdown",
      "source": [
        "### Summary of Tuning Process:\n",
        "\n",
        "#### **Our Base Model:**\n",
        "> dropout=0.3\n",
        ">\n",
        "> LR = 2e-5\n",
        ">\n",
        "> optimizer = AdamW\n",
        "\n",
        "**Epoch 1 Result:**\n",
        "\n",
        "Epochs: 1 | Train Loss: 0.020918 | Train Accuracy: 0.896767 | Val Loss: 0.011790 | Val Accuracy: 0.955591\n",
        "\n",
        "------------------------------------------\n",
        "\n",
        "#### **Best Trial:**\n",
        "\n",
        "> dropout=0.3\n",
        ">\n",
        "> LR = 0.0038839563432664145\n",
        ">\n",
        "> optimizer = rmsprop\n",
        "\n",
        "**Epoch 1 Result:**\n",
        "\n",
        "Epochs: 1 | Train Loss: 0.087925 | Train Accuracy: 0.381396 | Val Loss: 0.086850 | Val Accuracy: 0.381443\n",
        "\n",
        "---------------------------------------------\n",
        "\n"
      ],
      "metadata": {
        "id": "f-vU2rmHyMIf"
      }
    },
    {
      "cell_type": "markdown",
      "source": [
        "The best trial uses different optimizer and learning rate from our base model, and resulting a very bad train & validation loss and accuracy. This means our base model is already has the best optimizer. The learning rate here is way bigger than the learning rate we used in our base model.\n",
        "\n",
        "Although the loss values are quite close between the tuned and base model, the accuracy here showed a very different result.\n",
        "\n",
        "We also can see that validation loss is lower than the loss in training on both model, meaning both model generalize well to unseen data. A lower validation loss indicates that the model performs well on the validation set, which consists of data that the model hasn't seen during training. This means that both models are not overfitting to the training data. Comparing training and validation loss alone is not sufficient to evaluate the model's performance.\n",
        "\n",
        "The result of our base model is way better, and the loss is also decreasing on the next epoch.\n",
        "\n",
        "**In conclusion, we will use the base model for as our final model.**"
      ],
      "metadata": {
        "id": "iXwyYO95CnpL"
      }
    },
    {
      "cell_type": "markdown",
      "source": [
        "## Evaluation"
      ],
      "metadata": {
        "id": "sye8fsRmyL3_"
      }
    },
    {
      "cell_type": "markdown",
      "source": [
        "Now, we will evaluate our model using the test set."
      ],
      "metadata": {
        "id": "NIh-F0TZOGMX"
      }
    },
    {
      "cell_type": "code",
      "source": [
        "# call the final model for testing process\n",
        "best_model = RoBERTaClassifier()  # Create an instance of the model\n",
        "best_model.load_state_dict(torch.load('best_model.pt'))  # Load the final model\n",
        "best_model.to(device)  # Move the model to the appropriate device (CPU or GPU)"
      ],
      "metadata": {
        "id": "BFxSPgpIySb9",
        "colab": {
          "base_uri": "https://localhost:8080/"
        },
        "outputId": "76bb225d-e8c1-484d-ada0-1f3215e4716d"
      },
      "execution_count": null,
      "outputs": [
        {
          "output_type": "stream",
          "name": "stderr",
          "text": [
            "Some weights of the model checkpoint at roberta-base were not used when initializing RobertaModel: ['lm_head.dense.bias', 'lm_head.layer_norm.bias', 'lm_head.bias', 'lm_head.dense.weight', 'lm_head.layer_norm.weight']\n",
            "- This IS expected if you are initializing RobertaModel from the checkpoint of a model trained on another task or with another architecture (e.g. initializing a BertForSequenceClassification model from a BertForPreTraining model).\n",
            "- This IS NOT expected if you are initializing RobertaModel from the checkpoint of a model that you expect to be exactly identical (initializing a BertForSequenceClassification model from a BertForSequenceClassification model).\n",
            "Some weights of RobertaModel were not initialized from the model checkpoint at roberta-base and are newly initialized: ['roberta.pooler.dense.weight', 'roberta.pooler.dense.bias']\n",
            "You should probably TRAIN this model on a down-stream task to be able to use it for predictions and inference.\n"
          ]
        },
        {
          "output_type": "execute_result",
          "data": {
            "text/plain": [
              "RoBERTaClassifier(\n",
              "  (roberta): RobertaModel(\n",
              "    (embeddings): RobertaEmbeddings(\n",
              "      (word_embeddings): Embedding(50265, 768, padding_idx=1)\n",
              "      (position_embeddings): Embedding(514, 768, padding_idx=1)\n",
              "      (token_type_embeddings): Embedding(1, 768)\n",
              "      (LayerNorm): LayerNorm((768,), eps=1e-05, elementwise_affine=True)\n",
              "      (dropout): Dropout(p=0.1, inplace=False)\n",
              "    )\n",
              "    (encoder): RobertaEncoder(\n",
              "      (layer): ModuleList(\n",
              "        (0-11): 12 x RobertaLayer(\n",
              "          (attention): RobertaAttention(\n",
              "            (self): RobertaSelfAttention(\n",
              "              (query): Linear(in_features=768, out_features=768, bias=True)\n",
              "              (key): Linear(in_features=768, out_features=768, bias=True)\n",
              "              (value): Linear(in_features=768, out_features=768, bias=True)\n",
              "              (dropout): Dropout(p=0.1, inplace=False)\n",
              "            )\n",
              "            (output): RobertaSelfOutput(\n",
              "              (dense): Linear(in_features=768, out_features=768, bias=True)\n",
              "              (LayerNorm): LayerNorm((768,), eps=1e-05, elementwise_affine=True)\n",
              "              (dropout): Dropout(p=0.1, inplace=False)\n",
              "            )\n",
              "          )\n",
              "          (intermediate): RobertaIntermediate(\n",
              "            (dense): Linear(in_features=768, out_features=3072, bias=True)\n",
              "            (intermediate_act_fn): GELUActivation()\n",
              "          )\n",
              "          (output): RobertaOutput(\n",
              "            (dense): Linear(in_features=3072, out_features=768, bias=True)\n",
              "            (LayerNorm): LayerNorm((768,), eps=1e-05, elementwise_affine=True)\n",
              "            (dropout): Dropout(p=0.1, inplace=False)\n",
              "          )\n",
              "        )\n",
              "      )\n",
              "    )\n",
              "    (pooler): RobertaPooler(\n",
              "      (dense): Linear(in_features=768, out_features=768, bias=True)\n",
              "      (activation): Tanh()\n",
              "    )\n",
              "  )\n",
              "  (dropout): Dropout(p=0.3, inplace=False)\n",
              "  (linear): Linear(in_features=768, out_features=4, bias=True)\n",
              "  (relu): ReLU()\n",
              ")"
            ]
          },
          "metadata": {},
          "execution_count": 35
        }
      ]
    },
    {
      "cell_type": "code",
      "source": [
        "test_data = Dataset(df_test)\n",
        "test_dataloader = DataLoader(test_data, batch_size=config.BATCH_SIZE, shuffle=False)"
      ],
      "metadata": {
        "id": "SSOAEi7lzB86"
      },
      "execution_count": null,
      "outputs": []
    },
    {
      "cell_type": "code",
      "source": [
        "len(test_data) # just to make sure the data length is correct"
      ],
      "metadata": {
        "colab": {
          "base_uri": "https://localhost:8080/"
        },
        "id": "qvJEhyTWIhBA",
        "outputId": "abaec795-0419-4a40-f243-264102d9132c"
      },
      "execution_count": null,
      "outputs": [
        {
          "output_type": "execute_result",
          "data": {
            "text/plain": [
              "1261"
            ]
          },
          "metadata": {},
          "execution_count": 37
        }
      ]
    },
    {
      "cell_type": "markdown",
      "source": [
        "For this evaluation, we will use classification report and confusion matrix."
      ],
      "metadata": {
        "id": "pxWkhw4FOhcy"
      }
    },
    {
      "cell_type": "code",
      "source": [
        "# import metrics\n",
        "from sklearn.metrics import classification_report, confusion_matrix"
      ],
      "metadata": {
        "id": "Ph0STI02bGyx"
      },
      "execution_count": null,
      "outputs": []
    },
    {
      "cell_type": "code",
      "execution_count": null,
      "metadata": {
        "id": "snXBLzHJp-7k"
      },
      "outputs": [],
      "source": [
        "# define the evaluation process\n",
        "def evaluate(model, test_dataloader):\n",
        "    # set the model into evaluation mode\n",
        "    model.eval()\n",
        "\n",
        "    # initialize empty lists for predictions and labels\n",
        "    predictions = []\n",
        "    labels = []\n",
        "\n",
        "    # disable gradient calculation for evaluation\n",
        "    with torch.no_grad():\n",
        "        # Iterate over the test data\n",
        "        for batch in test_dataloader:\n",
        "            # Move the input IDs and attention mask to the device\n",
        "            input_ids = batch['input_ids'].to(device)\n",
        "            attention_mask = batch['attention_mask'].to(device)\n",
        "            batch_labels = batch['labels']\n",
        "\n",
        "            # forward pass\n",
        "            outputs = model(input_ids, attention_mask)\n",
        "\n",
        "            # compute predictions and append to the list\n",
        "            batch_predictions = outputs.argmax(dim=1).cpu().numpy()\n",
        "            predictions.extend(batch_predictions)\n",
        "\n",
        "            # append the true labels to the list\n",
        "            labels.extend(batch_labels)\n",
        "\n",
        "    # convert the predictions and labels to NumPy arrays\n",
        "    predictions = np.array(predictions)\n",
        "    labels = np.array(labels)\n",
        "\n",
        "    # compute evaluation metrics\n",
        "    accuracy = (predictions == labels).mean()\n",
        "    class_report = classification_report(labels, predictions)\n",
        "    cm = confusion_matrix(labels, predictions)\n",
        "\n",
        "    # print evaluation metrics\n",
        "    print(f\"Accuracy: {accuracy:.6f}\")\n",
        "    print(\"Classification Report:\")\n",
        "    print(class_report)\n",
        "    print(\"Confusion Matrix:\")\n",
        "    print(cm)\n",
        "\n",
        "    return accuracy, class_report, cm"
      ]
    },
    {
      "cell_type": "code",
      "source": [
        "# run the evaluation\n",
        "accuracy, class_report, cm = evaluate(best_model, test_dataloader)"
      ],
      "metadata": {
        "id": "i-EAbkdUzkED",
        "colab": {
          "base_uri": "https://localhost:8080/"
        },
        "outputId": "9c831591-04d6-4e37-b256-9348d075bc7a"
      },
      "execution_count": null,
      "outputs": [
        {
          "output_type": "stream",
          "name": "stdout",
          "text": [
            "Accuracy: 0.963521\n",
            "Classification Report:\n",
            "              precision    recall  f1-score   support\n",
            "\n",
            "           0       0.96      0.97      0.97       481\n",
            "           1       0.97      0.95      0.96       295\n",
            "           2       0.96      0.95      0.95       269\n",
            "           3       0.97      0.98      0.97       216\n",
            "\n",
            "    accuracy                           0.96      1261\n",
            "   macro avg       0.96      0.96      0.96      1261\n",
            "weighted avg       0.96      0.96      0.96      1261\n",
            "\n",
            "Confusion Matrix:\n",
            "[[467   4   8   2]\n",
            " [ 10 281   3   1]\n",
            " [  6   4 256   3]\n",
            " [  3   1   1 211]]\n"
          ]
        }
      ]
    },
    {
      "cell_type": "markdown",
      "source": [
        "## Summary\n",
        "\n",
        "In this summary, we will gather insights from the model evaluation."
      ],
      "metadata": {
        "id": "YUhkIA2abnc1"
      }
    },
    {
      "cell_type": "markdown",
      "source": [
        "We recall the results from the report from the first case, where we use machine learning to classify the classes (using Support Vector Machine Classifier along with TF-IDF Vectorizer):\n",
        "\n",
        "![svm-tfidf-evaluation-results.png](data:image/png;base64,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)\n"
      ],
      "metadata": {
        "id": "jBN5mi_0bzxv"
      }
    },
    {
      "cell_type": "markdown",
      "source": [
        "Comparing to the first solving, we can tell that **this case can be handled very well only by using simple Machine Learning** -- here, we have a very similar results among the metrics.\n",
        "\n",
        "Now, by comparing this results to the training result, **we can see that the test accuracy is already close to the validation accuracy, meaning there is no overfitting.**\n",
        "\n",
        "We also can tell that the **f1-score for each labels from the LLM Model Evaluation has higher score than the ones from ML model**. This higher f1-score means there are less missclassified class on each labels on the LLM Model than on the ML Model. Our LLM Model still resulting a slightly better classification on the test data.\n",
        "\n",
        "\n",
        "\n",
        "*note: the portion of test case on ML model is larger (20% out of full dataset) rather than on the LLM (only 10% out of full dataset)."
      ],
      "metadata": {
        "id": "UALBslXXQOD_"
      }
    },
    {
      "cell_type": "code",
      "source": [],
      "metadata": {
        "id": "czGx3zFVI-dI"
      },
      "execution_count": null,
      "outputs": []
    }
  ],
  "metadata": {
    "accelerator": "GPU",
    "colab": {
      "provenance": []
    },
    "kernelspec": {
      "display_name": "Python 3",
      "name": "python3"
    },
    "language_info": {
      "name": "python"
    },
    "widgets": {
      "application/vnd.jupyter.widget-state+json": {
        "04ca015b3e7247718e72d04b4449c5ac": {
          "model_module": "@jupyter-widgets/controls",
          "model_name": "HBoxModel",
          "model_module_version": "1.5.0",
          "state": {
            "_dom_classes": [],
            "_model_module": "@jupyter-widgets/controls",
            "_model_module_version": "1.5.0",
            "_model_name": "HBoxModel",
            "_view_count": null,
            "_view_module": "@jupyter-widgets/controls",
            "_view_module_version": "1.5.0",
            "_view_name": "HBoxView",
            "box_style": "",
            "children": [
              "IPY_MODEL_55335e544dd44892a89a0cf6670314e0",
              "IPY_MODEL_f3b6d11a83754e9ba348ad27359ef082",
              "IPY_MODEL_e7d0c71cb9b649209c7a8adfa72ef511"
            ],
            "layout": "IPY_MODEL_a8fd686a660e498eaa4f1941d6f5b191"
          }
        },
        "55335e544dd44892a89a0cf6670314e0": {
          "model_module": "@jupyter-widgets/controls",
          "model_name": "HTMLModel",
          "model_module_version": "1.5.0",
          "state": {
            "_dom_classes": [],
            "_model_module": "@jupyter-widgets/controls",
            "_model_module_version": "1.5.0",
            "_model_name": "HTMLModel",
            "_view_count": null,
            "_view_module": "@jupyter-widgets/controls",
            "_view_module_version": "1.5.0",
            "_view_name": "HTMLView",
            "description": "",
            "description_tooltip": null,
            "layout": "IPY_MODEL_5f32d710bf004e3ba25f2f98a3b7357b",
            "placeholder": "​",
            "style": "IPY_MODEL_cb65a5d39072492bb9743795ead44b47",
            "value": "Downloading (…)olve/main/vocab.json: 100%"
          }
        },
        "f3b6d11a83754e9ba348ad27359ef082": {
          "model_module": "@jupyter-widgets/controls",
          "model_name": "FloatProgressModel",
          "model_module_version": "1.5.0",
          "state": {
            "_dom_classes": [],
            "_model_module": "@jupyter-widgets/controls",
            "_model_module_version": "1.5.0",
            "_model_name": "FloatProgressModel",
            "_view_count": null,
            "_view_module": "@jupyter-widgets/controls",
            "_view_module_version": "1.5.0",
            "_view_name": "ProgressView",
            "bar_style": "success",
            "description": "",
            "description_tooltip": null,
            "layout": "IPY_MODEL_a0ff1147045d481e94f033e488eff5b1",
            "max": 898823,
            "min": 0,
            "orientation": "horizontal",
            "style": "IPY_MODEL_751bceab25434cafae815fa42e87d181",
            "value": 898823
          }
        },
        "e7d0c71cb9b649209c7a8adfa72ef511": {
          "model_module": "@jupyter-widgets/controls",
          "model_name": "HTMLModel",
          "model_module_version": "1.5.0",
          "state": {
            "_dom_classes": [],
            "_model_module": "@jupyter-widgets/controls",
            "_model_module_version": "1.5.0",
            "_model_name": "HTMLModel",
            "_view_count": null,
            "_view_module": "@jupyter-widgets/controls",
            "_view_module_version": "1.5.0",
            "_view_name": "HTMLView",
            "description": "",
            "description_tooltip": null,
            "layout": "IPY_MODEL_e38afa65f86a4363bae30f861f84b2aa",
            "placeholder": "​",
            "style": "IPY_MODEL_d27d4786946a414d83e6f6f729a64df4",
            "value": " 899k/899k [00:00&lt;00:00, 4.97MB/s]"
          }
        },
        "a8fd686a660e498eaa4f1941d6f5b191": {
          "model_module": "@jupyter-widgets/base",
          "model_name": "LayoutModel",
          "model_module_version": "1.2.0",
          "state": {
            "_model_module": "@jupyter-widgets/base",
            "_model_module_version": "1.2.0",
            "_model_name": "LayoutModel",
            "_view_count": null,
            "_view_module": "@jupyter-widgets/base",
            "_view_module_version": "1.2.0",
            "_view_name": "LayoutView",
            "align_content": null,
            "align_items": null,
            "align_self": null,
            "border": null,
            "bottom": null,
            "display": null,
            "flex": null,
            "flex_flow": null,
            "grid_area": null,
            "grid_auto_columns": null,
            "grid_auto_flow": null,
            "grid_auto_rows": null,
            "grid_column": null,
            "grid_gap": null,
            "grid_row": null,
            "grid_template_areas": null,
            "grid_template_columns": null,
            "grid_template_rows": null,
            "height": null,
            "justify_content": null,
            "justify_items": null,
            "left": null,
            "margin": null,
            "max_height": null,
            "max_width": null,
            "min_height": null,
            "min_width": null,
            "object_fit": null,
            "object_position": null,
            "order": null,
            "overflow": null,
            "overflow_x": null,
            "overflow_y": null,
            "padding": null,
            "right": null,
            "top": null,
            "visibility": null,
            "width": null
          }
        },
        "5f32d710bf004e3ba25f2f98a3b7357b": {
          "model_module": "@jupyter-widgets/base",
          "model_name": "LayoutModel",
          "model_module_version": "1.2.0",
          "state": {
            "_model_module": "@jupyter-widgets/base",
            "_model_module_version": "1.2.0",
            "_model_name": "LayoutModel",
            "_view_count": null,
            "_view_module": "@jupyter-widgets/base",
            "_view_module_version": "1.2.0",
            "_view_name": "LayoutView",
            "align_content": null,
            "align_items": null,
            "align_self": null,
            "border": null,
            "bottom": null,
            "display": null,
            "flex": null,
            "flex_flow": null,
            "grid_area": null,
            "grid_auto_columns": null,
            "grid_auto_flow": null,
            "grid_auto_rows": null,
            "grid_column": null,
            "grid_gap": null,
            "grid_row": null,
            "grid_template_areas": null,
            "grid_template_columns": null,
            "grid_template_rows": null,
            "height": null,
            "justify_content": null,
            "justify_items": null,
            "left": null,
            "margin": null,
            "max_height": null,
            "max_width": null,
            "min_height": null,
            "min_width": null,
            "object_fit": null,
            "object_position": null,
            "order": null,
            "overflow": null,
            "overflow_x": null,
            "overflow_y": null,
            "padding": null,
            "right": null,
            "top": null,
            "visibility": null,
            "width": null
          }
        },
        "cb65a5d39072492bb9743795ead44b47": {
          "model_module": "@jupyter-widgets/controls",
          "model_name": "DescriptionStyleModel",
          "model_module_version": "1.5.0",
          "state": {
            "_model_module": "@jupyter-widgets/controls",
            "_model_module_version": "1.5.0",
            "_model_name": "DescriptionStyleModel",
            "_view_count": null,
            "_view_module": "@jupyter-widgets/base",
            "_view_module_version": "1.2.0",
            "_view_name": "StyleView",
            "description_width": ""
          }
        },
        "a0ff1147045d481e94f033e488eff5b1": {
          "model_module": "@jupyter-widgets/base",
          "model_name": "LayoutModel",
          "model_module_version": "1.2.0",
          "state": {
            "_model_module": "@jupyter-widgets/base",
            "_model_module_version": "1.2.0",
            "_model_name": "LayoutModel",
            "_view_count": null,
            "_view_module": "@jupyter-widgets/base",
            "_view_module_version": "1.2.0",
            "_view_name": "LayoutView",
            "align_content": null,
            "align_items": null,
            "align_self": null,
            "border": null,
            "bottom": null,
            "display": null,
            "flex": null,
            "flex_flow": null,
            "grid_area": null,
            "grid_auto_columns": null,
            "grid_auto_flow": null,
            "grid_auto_rows": null,
            "grid_column": null,
            "grid_gap": null,
            "grid_row": null,
            "grid_template_areas": null,
            "grid_template_columns": null,
            "grid_template_rows": null,
            "height": null,
            "justify_content": null,
            "justify_items": null,
            "left": null,
            "margin": null,
            "max_height": null,
            "max_width": null,
            "min_height": null,
            "min_width": null,
            "object_fit": null,
            "object_position": null,
            "order": null,
            "overflow": null,
            "overflow_x": null,
            "overflow_y": null,
            "padding": null,
            "right": null,
            "top": null,
            "visibility": null,
            "width": null
          }
        },
        "751bceab25434cafae815fa42e87d181": {
          "model_module": "@jupyter-widgets/controls",
          "model_name": "ProgressStyleModel",
          "model_module_version": "1.5.0",
          "state": {
            "_model_module": "@jupyter-widgets/controls",
            "_model_module_version": "1.5.0",
            "_model_name": "ProgressStyleModel",
            "_view_count": null,
            "_view_module": "@jupyter-widgets/base",
            "_view_module_version": "1.2.0",
            "_view_name": "StyleView",
            "bar_color": null,
            "description_width": ""
          }
        },
        "e38afa65f86a4363bae30f861f84b2aa": {
          "model_module": "@jupyter-widgets/base",
          "model_name": "LayoutModel",
          "model_module_version": "1.2.0",
          "state": {
            "_model_module": "@jupyter-widgets/base",
            "_model_module_version": "1.2.0",
            "_model_name": "LayoutModel",
            "_view_count": null,
            "_view_module": "@jupyter-widgets/base",
            "_view_module_version": "1.2.0",
            "_view_name": "LayoutView",
            "align_content": null,
            "align_items": null,
            "align_self": null,
            "border": null,
            "bottom": null,
            "display": null,
            "flex": null,
            "flex_flow": null,
            "grid_area": null,
            "grid_auto_columns": null,
            "grid_auto_flow": null,
            "grid_auto_rows": null,
            "grid_column": null,
            "grid_gap": null,
            "grid_row": null,
            "grid_template_areas": null,
            "grid_template_columns": null,
            "grid_template_rows": null,
            "height": null,
            "justify_content": null,
            "justify_items": null,
            "left": null,
            "margin": null,
            "max_height": null,
            "max_width": null,
            "min_height": null,
            "min_width": null,
            "object_fit": null,
            "object_position": null,
            "order": null,
            "overflow": null,
            "overflow_x": null,
            "overflow_y": null,
            "padding": null,
            "right": null,
            "top": null,
            "visibility": null,
            "width": null
          }
        },
        "d27d4786946a414d83e6f6f729a64df4": {
          "model_module": "@jupyter-widgets/controls",
          "model_name": "DescriptionStyleModel",
          "model_module_version": "1.5.0",
          "state": {
            "_model_module": "@jupyter-widgets/controls",
            "_model_module_version": "1.5.0",
            "_model_name": "DescriptionStyleModel",
            "_view_count": null,
            "_view_module": "@jupyter-widgets/base",
            "_view_module_version": "1.2.0",
            "_view_name": "StyleView",
            "description_width": ""
          }
        },
        "2d69febcdb2b4421a0960ade0aec974a": {
          "model_module": "@jupyter-widgets/controls",
          "model_name": "HBoxModel",
          "model_module_version": "1.5.0",
          "state": {
            "_dom_classes": [],
            "_model_module": "@jupyter-widgets/controls",
            "_model_module_version": "1.5.0",
            "_model_name": "HBoxModel",
            "_view_count": null,
            "_view_module": "@jupyter-widgets/controls",
            "_view_module_version": "1.5.0",
            "_view_name": "HBoxView",
            "box_style": "",
            "children": [
              "IPY_MODEL_0a2b61c732f643b4b3684e2dce4f0400",
              "IPY_MODEL_9d58c9f4bace43818ee617d89756134d",
              "IPY_MODEL_6904589b97e44998b2b89becd150d11d"
            ],
            "layout": "IPY_MODEL_801e829f6ffd467f9adbc56f73a35fb9"
          }
        },
        "0a2b61c732f643b4b3684e2dce4f0400": {
          "model_module": "@jupyter-widgets/controls",
          "model_name": "HTMLModel",
          "model_module_version": "1.5.0",
          "state": {
            "_dom_classes": [],
            "_model_module": "@jupyter-widgets/controls",
            "_model_module_version": "1.5.0",
            "_model_name": "HTMLModel",
            "_view_count": null,
            "_view_module": "@jupyter-widgets/controls",
            "_view_module_version": "1.5.0",
            "_view_name": "HTMLView",
            "description": "",
            "description_tooltip": null,
            "layout": "IPY_MODEL_aef65f160c6747919218c7c4b650eced",
            "placeholder": "​",
            "style": "IPY_MODEL_e1f266e29ddc4056a47d9898433fdd16",
            "value": "Downloading (…)olve/main/merges.txt: 100%"
          }
        },
        "9d58c9f4bace43818ee617d89756134d": {
          "model_module": "@jupyter-widgets/controls",
          "model_name": "FloatProgressModel",
          "model_module_version": "1.5.0",
          "state": {
            "_dom_classes": [],
            "_model_module": "@jupyter-widgets/controls",
            "_model_module_version": "1.5.0",
            "_model_name": "FloatProgressModel",
            "_view_count": null,
            "_view_module": "@jupyter-widgets/controls",
            "_view_module_version": "1.5.0",
            "_view_name": "ProgressView",
            "bar_style": "success",
            "description": "",
            "description_tooltip": null,
            "layout": "IPY_MODEL_46ddcecfb8d84a2185b3b927ad03bbaf",
            "max": 456318,
            "min": 0,
            "orientation": "horizontal",
            "style": "IPY_MODEL_14ddb64666ae4f68b6ba17ae6f91d195",
            "value": 456318
          }
        },
        "6904589b97e44998b2b89becd150d11d": {
          "model_module": "@jupyter-widgets/controls",
          "model_name": "HTMLModel",
          "model_module_version": "1.5.0",
          "state": {
            "_dom_classes": [],
            "_model_module": "@jupyter-widgets/controls",
            "_model_module_version": "1.5.0",
            "_model_name": "HTMLModel",
            "_view_count": null,
            "_view_module": "@jupyter-widgets/controls",
            "_view_module_version": "1.5.0",
            "_view_name": "HTMLView",
            "description": "",
            "description_tooltip": null,
            "layout": "IPY_MODEL_842c0febbbd04e3e866bbe7db746d216",
            "placeholder": "​",
            "style": "IPY_MODEL_b3d28a2f186b4692b3fb036271e522a1",
            "value": " 456k/456k [00:00&lt;00:00, 7.17MB/s]"
          }
        },
        "801e829f6ffd467f9adbc56f73a35fb9": {
          "model_module": "@jupyter-widgets/base",
          "model_name": "LayoutModel",
          "model_module_version": "1.2.0",
          "state": {
            "_model_module": "@jupyter-widgets/base",
            "_model_module_version": "1.2.0",
            "_model_name": "LayoutModel",
            "_view_count": null,
            "_view_module": "@jupyter-widgets/base",
            "_view_module_version": "1.2.0",
            "_view_name": "LayoutView",
            "align_content": null,
            "align_items": null,
            "align_self": null,
            "border": null,
            "bottom": null,
            "display": null,
            "flex": null,
            "flex_flow": null,
            "grid_area": null,
            "grid_auto_columns": null,
            "grid_auto_flow": null,
            "grid_auto_rows": null,
            "grid_column": null,
            "grid_gap": null,
            "grid_row": null,
            "grid_template_areas": null,
            "grid_template_columns": null,
            "grid_template_rows": null,
            "height": null,
            "justify_content": null,
            "justify_items": null,
            "left": null,
            "margin": null,
            "max_height": null,
            "max_width": null,
            "min_height": null,
            "min_width": null,
            "object_fit": null,
            "object_position": null,
            "order": null,
            "overflow": null,
            "overflow_x": null,
            "overflow_y": null,
            "padding": null,
            "right": null,
            "top": null,
            "visibility": null,
            "width": null
          }
        },
        "aef65f160c6747919218c7c4b650eced": {
          "model_module": "@jupyter-widgets/base",
          "model_name": "LayoutModel",
          "model_module_version": "1.2.0",
          "state": {
            "_model_module": "@jupyter-widgets/base",
            "_model_module_version": "1.2.0",
            "_model_name": "LayoutModel",
            "_view_count": null,
            "_view_module": "@jupyter-widgets/base",
            "_view_module_version": "1.2.0",
            "_view_name": "LayoutView",
            "align_content": null,
            "align_items": null,
            "align_self": null,
            "border": null,
            "bottom": null,
            "display": null,
            "flex": null,
            "flex_flow": null,
            "grid_area": null,
            "grid_auto_columns": null,
            "grid_auto_flow": null,
            "grid_auto_rows": null,
            "grid_column": null,
            "grid_gap": null,
            "grid_row": null,
            "grid_template_areas": null,
            "grid_template_columns": null,
            "grid_template_rows": null,
            "height": null,
            "justify_content": null,
            "justify_items": null,
            "left": null,
            "margin": null,
            "max_height": null,
            "max_width": null,
            "min_height": null,
            "min_width": null,
            "object_fit": null,
            "object_position": null,
            "order": null,
            "overflow": null,
            "overflow_x": null,
            "overflow_y": null,
            "padding": null,
            "right": null,
            "top": null,
            "visibility": null,
            "width": null
          }
        },
        "e1f266e29ddc4056a47d9898433fdd16": {
          "model_module": "@jupyter-widgets/controls",
          "model_name": "DescriptionStyleModel",
          "model_module_version": "1.5.0",
          "state": {
            "_model_module": "@jupyter-widgets/controls",
            "_model_module_version": "1.5.0",
            "_model_name": "DescriptionStyleModel",
            "_view_count": null,
            "_view_module": "@jupyter-widgets/base",
            "_view_module_version": "1.2.0",
            "_view_name": "StyleView",
            "description_width": ""
          }
        },
        "46ddcecfb8d84a2185b3b927ad03bbaf": {
          "model_module": "@jupyter-widgets/base",
          "model_name": "LayoutModel",
          "model_module_version": "1.2.0",
          "state": {
            "_model_module": "@jupyter-widgets/base",
            "_model_module_version": "1.2.0",
            "_model_name": "LayoutModel",
            "_view_count": null,
            "_view_module": "@jupyter-widgets/base",
            "_view_module_version": "1.2.0",
            "_view_name": "LayoutView",
            "align_content": null,
            "align_items": null,
            "align_self": null,
            "border": null,
            "bottom": null,
            "display": null,
            "flex": null,
            "flex_flow": null,
            "grid_area": null,
            "grid_auto_columns": null,
            "grid_auto_flow": null,
            "grid_auto_rows": null,
            "grid_column": null,
            "grid_gap": null,
            "grid_row": null,
            "grid_template_areas": null,
            "grid_template_columns": null,
            "grid_template_rows": null,
            "height": null,
            "justify_content": null,
            "justify_items": null,
            "left": null,
            "margin": null,
            "max_height": null,
            "max_width": null,
            "min_height": null,
            "min_width": null,
            "object_fit": null,
            "object_position": null,
            "order": null,
            "overflow": null,
            "overflow_x": null,
            "overflow_y": null,
            "padding": null,
            "right": null,
            "top": null,
            "visibility": null,
            "width": null
          }
        },
        "14ddb64666ae4f68b6ba17ae6f91d195": {
          "model_module": "@jupyter-widgets/controls",
          "model_name": "ProgressStyleModel",
          "model_module_version": "1.5.0",
          "state": {
            "_model_module": "@jupyter-widgets/controls",
            "_model_module_version": "1.5.0",
            "_model_name": "ProgressStyleModel",
            "_view_count": null,
            "_view_module": "@jupyter-widgets/base",
            "_view_module_version": "1.2.0",
            "_view_name": "StyleView",
            "bar_color": null,
            "description_width": ""
          }
        },
        "842c0febbbd04e3e866bbe7db746d216": {
          "model_module": "@jupyter-widgets/base",
          "model_name": "LayoutModel",
          "model_module_version": "1.2.0",
          "state": {
            "_model_module": "@jupyter-widgets/base",
            "_model_module_version": "1.2.0",
            "_model_name": "LayoutModel",
            "_view_count": null,
            "_view_module": "@jupyter-widgets/base",
            "_view_module_version": "1.2.0",
            "_view_name": "LayoutView",
            "align_content": null,
            "align_items": null,
            "align_self": null,
            "border": null,
            "bottom": null,
            "display": null,
            "flex": null,
            "flex_flow": null,
            "grid_area": null,
            "grid_auto_columns": null,
            "grid_auto_flow": null,
            "grid_auto_rows": null,
            "grid_column": null,
            "grid_gap": null,
            "grid_row": null,
            "grid_template_areas": null,
            "grid_template_columns": null,
            "grid_template_rows": null,
            "height": null,
            "justify_content": null,
            "justify_items": null,
            "left": null,
            "margin": null,
            "max_height": null,
            "max_width": null,
            "min_height": null,
            "min_width": null,
            "object_fit": null,
            "object_position": null,
            "order": null,
            "overflow": null,
            "overflow_x": null,
            "overflow_y": null,
            "padding": null,
            "right": null,
            "top": null,
            "visibility": null,
            "width": null
          }
        },
        "b3d28a2f186b4692b3fb036271e522a1": {
          "model_module": "@jupyter-widgets/controls",
          "model_name": "DescriptionStyleModel",
          "model_module_version": "1.5.0",
          "state": {
            "_model_module": "@jupyter-widgets/controls",
            "_model_module_version": "1.5.0",
            "_model_name": "DescriptionStyleModel",
            "_view_count": null,
            "_view_module": "@jupyter-widgets/base",
            "_view_module_version": "1.2.0",
            "_view_name": "StyleView",
            "description_width": ""
          }
        },
        "d3aeabb080c0424298625e038c33bfa2": {
          "model_module": "@jupyter-widgets/controls",
          "model_name": "HBoxModel",
          "model_module_version": "1.5.0",
          "state": {
            "_dom_classes": [],
            "_model_module": "@jupyter-widgets/controls",
            "_model_module_version": "1.5.0",
            "_model_name": "HBoxModel",
            "_view_count": null,
            "_view_module": "@jupyter-widgets/controls",
            "_view_module_version": "1.5.0",
            "_view_name": "HBoxView",
            "box_style": "",
            "children": [
              "IPY_MODEL_ca7e55e459d046a98164445a583ca188",
              "IPY_MODEL_f208e35b496948d4b716a3cebdcb6ec2",
              "IPY_MODEL_af0ef4c6c64c4606bdf01bb2e983b5ae"
            ],
            "layout": "IPY_MODEL_2ee2a7665c7845ed9c3d196f5c7d5932"
          }
        },
        "ca7e55e459d046a98164445a583ca188": {
          "model_module": "@jupyter-widgets/controls",
          "model_name": "HTMLModel",
          "model_module_version": "1.5.0",
          "state": {
            "_dom_classes": [],
            "_model_module": "@jupyter-widgets/controls",
            "_model_module_version": "1.5.0",
            "_model_name": "HTMLModel",
            "_view_count": null,
            "_view_module": "@jupyter-widgets/controls",
            "_view_module_version": "1.5.0",
            "_view_name": "HTMLView",
            "description": "",
            "description_tooltip": null,
            "layout": "IPY_MODEL_1d37a70e4c75462eaf59960b708d4841",
            "placeholder": "​",
            "style": "IPY_MODEL_a0f7808f490e414892c3a8b63c09f796",
            "value": "Downloading (…)lve/main/config.json: 100%"
          }
        },
        "f208e35b496948d4b716a3cebdcb6ec2": {
          "model_module": "@jupyter-widgets/controls",
          "model_name": "FloatProgressModel",
          "model_module_version": "1.5.0",
          "state": {
            "_dom_classes": [],
            "_model_module": "@jupyter-widgets/controls",
            "_model_module_version": "1.5.0",
            "_model_name": "FloatProgressModel",
            "_view_count": null,
            "_view_module": "@jupyter-widgets/controls",
            "_view_module_version": "1.5.0",
            "_view_name": "ProgressView",
            "bar_style": "success",
            "description": "",
            "description_tooltip": null,
            "layout": "IPY_MODEL_d959c329f093412b855c5e1d86a60f9d",
            "max": 481,
            "min": 0,
            "orientation": "horizontal",
            "style": "IPY_MODEL_edae6e19e3a343408cc27698eb3f1318",
            "value": 481
          }
        },
        "af0ef4c6c64c4606bdf01bb2e983b5ae": {
          "model_module": "@jupyter-widgets/controls",
          "model_name": "HTMLModel",
          "model_module_version": "1.5.0",
          "state": {
            "_dom_classes": [],
            "_model_module": "@jupyter-widgets/controls",
            "_model_module_version": "1.5.0",
            "_model_name": "HTMLModel",
            "_view_count": null,
            "_view_module": "@jupyter-widgets/controls",
            "_view_module_version": "1.5.0",
            "_view_name": "HTMLView",
            "description": "",
            "description_tooltip": null,
            "layout": "IPY_MODEL_66ec758e39b84a378ca06d738c23eac8",
            "placeholder": "​",
            "style": "IPY_MODEL_2292e90d08dc4f0087380657ca011a33",
            "value": " 481/481 [00:00&lt;00:00, 6.14kB/s]"
          }
        },
        "2ee2a7665c7845ed9c3d196f5c7d5932": {
          "model_module": "@jupyter-widgets/base",
          "model_name": "LayoutModel",
          "model_module_version": "1.2.0",
          "state": {
            "_model_module": "@jupyter-widgets/base",
            "_model_module_version": "1.2.0",
            "_model_name": "LayoutModel",
            "_view_count": null,
            "_view_module": "@jupyter-widgets/base",
            "_view_module_version": "1.2.0",
            "_view_name": "LayoutView",
            "align_content": null,
            "align_items": null,
            "align_self": null,
            "border": null,
            "bottom": null,
            "display": null,
            "flex": null,
            "flex_flow": null,
            "grid_area": null,
            "grid_auto_columns": null,
            "grid_auto_flow": null,
            "grid_auto_rows": null,
            "grid_column": null,
            "grid_gap": null,
            "grid_row": null,
            "grid_template_areas": null,
            "grid_template_columns": null,
            "grid_template_rows": null,
            "height": null,
            "justify_content": null,
            "justify_items": null,
            "left": null,
            "margin": null,
            "max_height": null,
            "max_width": null,
            "min_height": null,
            "min_width": null,
            "object_fit": null,
            "object_position": null,
            "order": null,
            "overflow": null,
            "overflow_x": null,
            "overflow_y": null,
            "padding": null,
            "right": null,
            "top": null,
            "visibility": null,
            "width": null
          }
        },
        "1d37a70e4c75462eaf59960b708d4841": {
          "model_module": "@jupyter-widgets/base",
          "model_name": "LayoutModel",
          "model_module_version": "1.2.0",
          "state": {
            "_model_module": "@jupyter-widgets/base",
            "_model_module_version": "1.2.0",
            "_model_name": "LayoutModel",
            "_view_count": null,
            "_view_module": "@jupyter-widgets/base",
            "_view_module_version": "1.2.0",
            "_view_name": "LayoutView",
            "align_content": null,
            "align_items": null,
            "align_self": null,
            "border": null,
            "bottom": null,
            "display": null,
            "flex": null,
            "flex_flow": null,
            "grid_area": null,
            "grid_auto_columns": null,
            "grid_auto_flow": null,
            "grid_auto_rows": null,
            "grid_column": null,
            "grid_gap": null,
            "grid_row": null,
            "grid_template_areas": null,
            "grid_template_columns": null,
            "grid_template_rows": null,
            "height": null,
            "justify_content": null,
            "justify_items": null,
            "left": null,
            "margin": null,
            "max_height": null,
            "max_width": null,
            "min_height": null,
            "min_width": null,
            "object_fit": null,
            "object_position": null,
            "order": null,
            "overflow": null,
            "overflow_x": null,
            "overflow_y": null,
            "padding": null,
            "right": null,
            "top": null,
            "visibility": null,
            "width": null
          }
        },
        "a0f7808f490e414892c3a8b63c09f796": {
          "model_module": "@jupyter-widgets/controls",
          "model_name": "DescriptionStyleModel",
          "model_module_version": "1.5.0",
          "state": {
            "_model_module": "@jupyter-widgets/controls",
            "_model_module_version": "1.5.0",
            "_model_name": "DescriptionStyleModel",
            "_view_count": null,
            "_view_module": "@jupyter-widgets/base",
            "_view_module_version": "1.2.0",
            "_view_name": "StyleView",
            "description_width": ""
          }
        },
        "d959c329f093412b855c5e1d86a60f9d": {
          "model_module": "@jupyter-widgets/base",
          "model_name": "LayoutModel",
          "model_module_version": "1.2.0",
          "state": {
            "_model_module": "@jupyter-widgets/base",
            "_model_module_version": "1.2.0",
            "_model_name": "LayoutModel",
            "_view_count": null,
            "_view_module": "@jupyter-widgets/base",
            "_view_module_version": "1.2.0",
            "_view_name": "LayoutView",
            "align_content": null,
            "align_items": null,
            "align_self": null,
            "border": null,
            "bottom": null,
            "display": null,
            "flex": null,
            "flex_flow": null,
            "grid_area": null,
            "grid_auto_columns": null,
            "grid_auto_flow": null,
            "grid_auto_rows": null,
            "grid_column": null,
            "grid_gap": null,
            "grid_row": null,
            "grid_template_areas": null,
            "grid_template_columns": null,
            "grid_template_rows": null,
            "height": null,
            "justify_content": null,
            "justify_items": null,
            "left": null,
            "margin": null,
            "max_height": null,
            "max_width": null,
            "min_height": null,
            "min_width": null,
            "object_fit": null,
            "object_position": null,
            "order": null,
            "overflow": null,
            "overflow_x": null,
            "overflow_y": null,
            "padding": null,
            "right": null,
            "top": null,
            "visibility": null,
            "width": null
          }
        },
        "edae6e19e3a343408cc27698eb3f1318": {
          "model_module": "@jupyter-widgets/controls",
          "model_name": "ProgressStyleModel",
          "model_module_version": "1.5.0",
          "state": {
            "_model_module": "@jupyter-widgets/controls",
            "_model_module_version": "1.5.0",
            "_model_name": "ProgressStyleModel",
            "_view_count": null,
            "_view_module": "@jupyter-widgets/base",
            "_view_module_version": "1.2.0",
            "_view_name": "StyleView",
            "bar_color": null,
            "description_width": ""
          }
        },
        "66ec758e39b84a378ca06d738c23eac8": {
          "model_module": "@jupyter-widgets/base",
          "model_name": "LayoutModel",
          "model_module_version": "1.2.0",
          "state": {
            "_model_module": "@jupyter-widgets/base",
            "_model_module_version": "1.2.0",
            "_model_name": "LayoutModel",
            "_view_count": null,
            "_view_module": "@jupyter-widgets/base",
            "_view_module_version": "1.2.0",
            "_view_name": "LayoutView",
            "align_content": null,
            "align_items": null,
            "align_self": null,
            "border": null,
            "bottom": null,
            "display": null,
            "flex": null,
            "flex_flow": null,
            "grid_area": null,
            "grid_auto_columns": null,
            "grid_auto_flow": null,
            "grid_auto_rows": null,
            "grid_column": null,
            "grid_gap": null,
            "grid_row": null,
            "grid_template_areas": null,
            "grid_template_columns": null,
            "grid_template_rows": null,
            "height": null,
            "justify_content": null,
            "justify_items": null,
            "left": null,
            "margin": null,
            "max_height": null,
            "max_width": null,
            "min_height": null,
            "min_width": null,
            "object_fit": null,
            "object_position": null,
            "order": null,
            "overflow": null,
            "overflow_x": null,
            "overflow_y": null,
            "padding": null,
            "right": null,
            "top": null,
            "visibility": null,
            "width": null
          }
        },
        "2292e90d08dc4f0087380657ca011a33": {
          "model_module": "@jupyter-widgets/controls",
          "model_name": "DescriptionStyleModel",
          "model_module_version": "1.5.0",
          "state": {
            "_model_module": "@jupyter-widgets/controls",
            "_model_module_version": "1.5.0",
            "_model_name": "DescriptionStyleModel",
            "_view_count": null,
            "_view_module": "@jupyter-widgets/base",
            "_view_module_version": "1.2.0",
            "_view_name": "StyleView",
            "description_width": ""
          }
        },
        "ab60ae6669fe4a5c956257c4452ed892": {
          "model_module": "@jupyter-widgets/controls",
          "model_name": "HBoxModel",
          "model_module_version": "1.5.0",
          "state": {
            "_dom_classes": [],
            "_model_module": "@jupyter-widgets/controls",
            "_model_module_version": "1.5.0",
            "_model_name": "HBoxModel",
            "_view_count": null,
            "_view_module": "@jupyter-widgets/controls",
            "_view_module_version": "1.5.0",
            "_view_name": "HBoxView",
            "box_style": "",
            "children": [
              "IPY_MODEL_65375e83a9ce4ba0ad56faed0fd252e0",
              "IPY_MODEL_52c46065e35d4a90b16290b511ecc61c",
              "IPY_MODEL_04519b070dac49cfb3c439fc0e211cf1"
            ],
            "layout": "IPY_MODEL_4a094ae7cc904eaabdac81ddb64930a3"
          }
        },
        "65375e83a9ce4ba0ad56faed0fd252e0": {
          "model_module": "@jupyter-widgets/controls",
          "model_name": "HTMLModel",
          "model_module_version": "1.5.0",
          "state": {
            "_dom_classes": [],
            "_model_module": "@jupyter-widgets/controls",
            "_model_module_version": "1.5.0",
            "_model_name": "HTMLModel",
            "_view_count": null,
            "_view_module": "@jupyter-widgets/controls",
            "_view_module_version": "1.5.0",
            "_view_name": "HTMLView",
            "description": "",
            "description_tooltip": null,
            "layout": "IPY_MODEL_31c1e7a3f6c848b198603a23f4eaa407",
            "placeholder": "​",
            "style": "IPY_MODEL_b6cfd7e4978b421295f9fc3f1e92374b",
            "value": "Downloading model.safetensors: 100%"
          }
        },
        "52c46065e35d4a90b16290b511ecc61c": {
          "model_module": "@jupyter-widgets/controls",
          "model_name": "FloatProgressModel",
          "model_module_version": "1.5.0",
          "state": {
            "_dom_classes": [],
            "_model_module": "@jupyter-widgets/controls",
            "_model_module_version": "1.5.0",
            "_model_name": "FloatProgressModel",
            "_view_count": null,
            "_view_module": "@jupyter-widgets/controls",
            "_view_module_version": "1.5.0",
            "_view_name": "ProgressView",
            "bar_style": "success",
            "description": "",
            "description_tooltip": null,
            "layout": "IPY_MODEL_62f7769ce4d344db88f70c88aa655ac3",
            "max": 498818054,
            "min": 0,
            "orientation": "horizontal",
            "style": "IPY_MODEL_67e2e4c2ec824b15a308d6c9985c7120",
            "value": 498818054
          }
        },
        "04519b070dac49cfb3c439fc0e211cf1": {
          "model_module": "@jupyter-widgets/controls",
          "model_name": "HTMLModel",
          "model_module_version": "1.5.0",
          "state": {
            "_dom_classes": [],
            "_model_module": "@jupyter-widgets/controls",
            "_model_module_version": "1.5.0",
            "_model_name": "HTMLModel",
            "_view_count": null,
            "_view_module": "@jupyter-widgets/controls",
            "_view_module_version": "1.5.0",
            "_view_name": "HTMLView",
            "description": "",
            "description_tooltip": null,
            "layout": "IPY_MODEL_b911060e5e6648cab26efabadbd08ae1",
            "placeholder": "​",
            "style": "IPY_MODEL_bb8e140f73944a0a8438ab4d940c4484",
            "value": " 499M/499M [00:03&lt;00:00, 274MB/s]"
          }
        },
        "4a094ae7cc904eaabdac81ddb64930a3": {
          "model_module": "@jupyter-widgets/base",
          "model_name": "LayoutModel",
          "model_module_version": "1.2.0",
          "state": {
            "_model_module": "@jupyter-widgets/base",
            "_model_module_version": "1.2.0",
            "_model_name": "LayoutModel",
            "_view_count": null,
            "_view_module": "@jupyter-widgets/base",
            "_view_module_version": "1.2.0",
            "_view_name": "LayoutView",
            "align_content": null,
            "align_items": null,
            "align_self": null,
            "border": null,
            "bottom": null,
            "display": null,
            "flex": null,
            "flex_flow": null,
            "grid_area": null,
            "grid_auto_columns": null,
            "grid_auto_flow": null,
            "grid_auto_rows": null,
            "grid_column": null,
            "grid_gap": null,
            "grid_row": null,
            "grid_template_areas": null,
            "grid_template_columns": null,
            "grid_template_rows": null,
            "height": null,
            "justify_content": null,
            "justify_items": null,
            "left": null,
            "margin": null,
            "max_height": null,
            "max_width": null,
            "min_height": null,
            "min_width": null,
            "object_fit": null,
            "object_position": null,
            "order": null,
            "overflow": null,
            "overflow_x": null,
            "overflow_y": null,
            "padding": null,
            "right": null,
            "top": null,
            "visibility": null,
            "width": null
          }
        },
        "31c1e7a3f6c848b198603a23f4eaa407": {
          "model_module": "@jupyter-widgets/base",
          "model_name": "LayoutModel",
          "model_module_version": "1.2.0",
          "state": {
            "_model_module": "@jupyter-widgets/base",
            "_model_module_version": "1.2.0",
            "_model_name": "LayoutModel",
            "_view_count": null,
            "_view_module": "@jupyter-widgets/base",
            "_view_module_version": "1.2.0",
            "_view_name": "LayoutView",
            "align_content": null,
            "align_items": null,
            "align_self": null,
            "border": null,
            "bottom": null,
            "display": null,
            "flex": null,
            "flex_flow": null,
            "grid_area": null,
            "grid_auto_columns": null,
            "grid_auto_flow": null,
            "grid_auto_rows": null,
            "grid_column": null,
            "grid_gap": null,
            "grid_row": null,
            "grid_template_areas": null,
            "grid_template_columns": null,
            "grid_template_rows": null,
            "height": null,
            "justify_content": null,
            "justify_items": null,
            "left": null,
            "margin": null,
            "max_height": null,
            "max_width": null,
            "min_height": null,
            "min_width": null,
            "object_fit": null,
            "object_position": null,
            "order": null,
            "overflow": null,
            "overflow_x": null,
            "overflow_y": null,
            "padding": null,
            "right": null,
            "top": null,
            "visibility": null,
            "width": null
          }
        },
        "b6cfd7e4978b421295f9fc3f1e92374b": {
          "model_module": "@jupyter-widgets/controls",
          "model_name": "DescriptionStyleModel",
          "model_module_version": "1.5.0",
          "state": {
            "_model_module": "@jupyter-widgets/controls",
            "_model_module_version": "1.5.0",
            "_model_name": "DescriptionStyleModel",
            "_view_count": null,
            "_view_module": "@jupyter-widgets/base",
            "_view_module_version": "1.2.0",
            "_view_name": "StyleView",
            "description_width": ""
          }
        },
        "62f7769ce4d344db88f70c88aa655ac3": {
          "model_module": "@jupyter-widgets/base",
          "model_name": "LayoutModel",
          "model_module_version": "1.2.0",
          "state": {
            "_model_module": "@jupyter-widgets/base",
            "_model_module_version": "1.2.0",
            "_model_name": "LayoutModel",
            "_view_count": null,
            "_view_module": "@jupyter-widgets/base",
            "_view_module_version": "1.2.0",
            "_view_name": "LayoutView",
            "align_content": null,
            "align_items": null,
            "align_self": null,
            "border": null,
            "bottom": null,
            "display": null,
            "flex": null,
            "flex_flow": null,
            "grid_area": null,
            "grid_auto_columns": null,
            "grid_auto_flow": null,
            "grid_auto_rows": null,
            "grid_column": null,
            "grid_gap": null,
            "grid_row": null,
            "grid_template_areas": null,
            "grid_template_columns": null,
            "grid_template_rows": null,
            "height": null,
            "justify_content": null,
            "justify_items": null,
            "left": null,
            "margin": null,
            "max_height": null,
            "max_width": null,
            "min_height": null,
            "min_width": null,
            "object_fit": null,
            "object_position": null,
            "order": null,
            "overflow": null,
            "overflow_x": null,
            "overflow_y": null,
            "padding": null,
            "right": null,
            "top": null,
            "visibility": null,
            "width": null
          }
        },
        "67e2e4c2ec824b15a308d6c9985c7120": {
          "model_module": "@jupyter-widgets/controls",
          "model_name": "ProgressStyleModel",
          "model_module_version": "1.5.0",
          "state": {
            "_model_module": "@jupyter-widgets/controls",
            "_model_module_version": "1.5.0",
            "_model_name": "ProgressStyleModel",
            "_view_count": null,
            "_view_module": "@jupyter-widgets/base",
            "_view_module_version": "1.2.0",
            "_view_name": "StyleView",
            "bar_color": null,
            "description_width": ""
          }
        },
        "b911060e5e6648cab26efabadbd08ae1": {
          "model_module": "@jupyter-widgets/base",
          "model_name": "LayoutModel",
          "model_module_version": "1.2.0",
          "state": {
            "_model_module": "@jupyter-widgets/base",
            "_model_module_version": "1.2.0",
            "_model_name": "LayoutModel",
            "_view_count": null,
            "_view_module": "@jupyter-widgets/base",
            "_view_module_version": "1.2.0",
            "_view_name": "LayoutView",
            "align_content": null,
            "align_items": null,
            "align_self": null,
            "border": null,
            "bottom": null,
            "display": null,
            "flex": null,
            "flex_flow": null,
            "grid_area": null,
            "grid_auto_columns": null,
            "grid_auto_flow": null,
            "grid_auto_rows": null,
            "grid_column": null,
            "grid_gap": null,
            "grid_row": null,
            "grid_template_areas": null,
            "grid_template_columns": null,
            "grid_template_rows": null,
            "height": null,
            "justify_content": null,
            "justify_items": null,
            "left": null,
            "margin": null,
            "max_height": null,
            "max_width": null,
            "min_height": null,
            "min_width": null,
            "object_fit": null,
            "object_position": null,
            "order": null,
            "overflow": null,
            "overflow_x": null,
            "overflow_y": null,
            "padding": null,
            "right": null,
            "top": null,
            "visibility": null,
            "width": null
          }
        },
        "bb8e140f73944a0a8438ab4d940c4484": {
          "model_module": "@jupyter-widgets/controls",
          "model_name": "DescriptionStyleModel",
          "model_module_version": "1.5.0",
          "state": {
            "_model_module": "@jupyter-widgets/controls",
            "_model_module_version": "1.5.0",
            "_model_name": "DescriptionStyleModel",
            "_view_count": null,
            "_view_module": "@jupyter-widgets/base",
            "_view_module_version": "1.2.0",
            "_view_name": "StyleView",
            "description_width": ""
          }
        }
      }
    }
  },
  "nbformat": 4,
  "nbformat_minor": 0
}